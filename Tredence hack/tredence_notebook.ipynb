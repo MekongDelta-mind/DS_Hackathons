{
  "cells": [
    {
      "cell_type": "code",
      "execution_count": 171,
      "metadata": {
        "id": "1gCEdpFWVYjQ"
      },
      "outputs": [],
      "source": [
        "# Jovian Commit Essentials\n",
        "# Please retain and execute this cell without modifying the contents for `jovian.commit` to work\n",
        "!pip install jovian --upgrade -q\n",
        "import jovian\n",
        "jovian.set_project('machinehack-ode-to-code-tredence')\n",
        "jovian.set_colab_id('1k5--hD8q0ln8nYzMNDY-A-IYJaeKsXIN')"
      ]
    },
    {
      "cell_type": "markdown",
      "metadata": {
        "id": "7hwQoA7mcf51"
      },
      "source": [
        "# machinehack-ode-to-code-tredence\n",
        "\n",
        "Use the \"Run\" button to execute the code."
      ]
    },
    {
      "cell_type": "code",
      "execution_count": 1,
      "metadata": {
        "id": "UaaU51lDcf55",
        "colab": {
          "base_uri": "https://localhost:8080/"
        },
        "outputId": "4a5c733f-8556-4a3e-e359-0e19d9a8d995"
      },
      "outputs": [
        {
          "output_type": "stream",
          "name": "stdout",
          "text": [
            "\u001b[?25l\r\u001b[K     |████▊                           | 10 kB 25.4 MB/s eta 0:00:01\r\u001b[K     |█████████▌                      | 20 kB 13.0 MB/s eta 0:00:01\r\u001b[K     |██████████████▎                 | 30 kB 10.0 MB/s eta 0:00:01\r\u001b[K     |███████████████████             | 40 kB 8.8 MB/s eta 0:00:01\r\u001b[K     |███████████████████████▉        | 51 kB 5.6 MB/s eta 0:00:01\r\u001b[K     |████████████████████████████▋   | 61 kB 5.6 MB/s eta 0:00:01\r\u001b[K     |████████████████████████████████| 68 kB 2.9 MB/s \n",
            "\u001b[?25h  Building wheel for uuid (setup.py) ... \u001b[?25l\u001b[?25hdone\n"
          ]
        }
      ],
      "source": [
        "!pip install jovian --upgrade --quiet"
      ]
    },
    {
      "cell_type": "code",
      "execution_count": 2,
      "metadata": {
        "id": "ZIviAZ_7cf57"
      },
      "outputs": [],
      "source": [
        "import jovian"
      ]
    },
    {
      "cell_type": "code",
      "execution_count": null,
      "metadata": {
        "colab": {
          "base_uri": "https://localhost:8080/",
          "height": 92
        },
        "id": "LZbdUtJPcf59",
        "outputId": "cb6fbc22-95fe-45c7-846e-a75464c65e2f"
      },
      "outputs": [
        {
          "name": "stdout",
          "output_type": "stream",
          "text": [
            "[jovian] Detected Colab notebook...\u001b[0m\n",
            "[jovian] Uploading colab notebook to Jovian...\u001b[0m\n",
            "Committed successfully! https://jovian.ai/pknayak0707-job/machinehack-ode-to-code-tredence\n"
          ]
        },
        {
          "data": {
            "application/vnd.google.colaboratory.intrinsic+json": {
              "type": "string"
            },
            "text/plain": [
              "'https://jovian.ai/pknayak0707-job/machinehack-ode-to-code-tredence'"
            ]
          },
          "execution_count": 8,
          "metadata": {},
          "output_type": "execute_result"
        }
      ],
      "source": [
        "# Execute this to save new versions of the notebook\n",
        "jovian.commit(project=\"machinehack-ode-to-code-tredence\", \\\n",
        "              git_message = \"first commit from jovian\",\n",
        "              git_commit= True)\n",
        "# it can work only when executing the notebook on the binder."
      ]
    },
    {
      "cell_type": "code",
      "execution_count": null,
      "metadata": {
        "id": "iO_skKKNcf5-"
      },
      "outputs": [],
      "source": [
        ""
      ]
    },
    {
      "cell_type": "markdown",
      "metadata": {
        "id": "MdeiXzzxfWzM"
      },
      "source": [
        "# Downloading the data form drive"
      ]
    },
    {
      "cell_type": "code",
      "execution_count": 3,
      "metadata": {
        "colab": {
          "base_uri": "https://localhost:8080/"
        },
        "id": "9_MHRVNvfYGZ",
        "outputId": "84ec90f6-1a91-4a8f-b6ae-16e9558a4593"
      },
      "outputs": [
        {
          "output_type": "stream",
          "name": "stdout",
          "text": [
            "Mounted at /content/drive\n"
          ]
        }
      ],
      "source": [
        "from google.colab import drive\n",
        "drive.mount('/content/drive',\\\n",
        "            force_remount=True)"
      ]
    },
    {
      "cell_type": "code",
      "execution_count": 87,
      "metadata": {
        "id": "bw9aXwpafaqW"
      },
      "outputs": [],
      "source": [
        "data_dir = '/content/drive/MyDrive/Professional/Coding Challenges/MachineHack/TredenceOdeToCode/dataset'"
      ]
    },
    {
      "cell_type": "code",
      "execution_count": 88,
      "metadata": {
        "id": "syAZgPudfs-Q"
      },
      "outputs": [],
      "source": [
        "import numpy as np\n",
        "import pandas as pd\n",
        "import matplotlib.pyplot as plt\n",
        "%matplotlib inline\n"
      ]
    },
    {
      "cell_type": "code",
      "execution_count": 89,
      "metadata": {
        "colab": {
          "base_uri": "https://localhost:8080/",
          "height": 322
        },
        "id": "mnzkwltLf8o1",
        "outputId": "60e06ec0-b8fc-44a7-e058-71cb8d303260"
      },
      "outputs": [
        {
          "output_type": "execute_result",
          "data": {
            "text/html": [
              "\n",
              "  <div id=\"df-d62cc336-e005-475d-a514-9f23c3814395\">\n",
              "    <div class=\"colab-df-container\">\n",
              "      <div>\n",
              "<style scoped>\n",
              "    .dataframe tbody tr th:only-of-type {\n",
              "        vertical-align: middle;\n",
              "    }\n",
              "\n",
              "    .dataframe tbody tr th {\n",
              "        vertical-align: top;\n",
              "    }\n",
              "\n",
              "    .dataframe thead th {\n",
              "        text-align: right;\n",
              "    }\n",
              "</style>\n",
              "<table border=\"1\" class=\"dataframe\">\n",
              "  <thead>\n",
              "    <tr style=\"text-align: right;\">\n",
              "      <th></th>\n",
              "      <th>edible-poisonous</th>\n",
              "      <th>cap-diameter</th>\n",
              "      <th>cap-shape</th>\n",
              "      <th>cap-color</th>\n",
              "      <th>does-bruise-or-bleed</th>\n",
              "      <th>gill-attachment</th>\n",
              "      <th>gill-color</th>\n",
              "      <th>stem-height</th>\n",
              "      <th>stem-width</th>\n",
              "      <th>stem-color</th>\n",
              "      <th>has-ring</th>\n",
              "      <th>ring-type</th>\n",
              "      <th>habitat</th>\n",
              "      <th>season</th>\n",
              "    </tr>\n",
              "  </thead>\n",
              "  <tbody>\n",
              "    <tr>\n",
              "      <th>0</th>\n",
              "      <td>p</td>\n",
              "      <td>5.75</td>\n",
              "      <td>x</td>\n",
              "      <td>n</td>\n",
              "      <td>t</td>\n",
              "      <td>s</td>\n",
              "      <td>w</td>\n",
              "      <td>6.13</td>\n",
              "      <td>14.93</td>\n",
              "      <td>w</td>\n",
              "      <td>f</td>\n",
              "      <td>f</td>\n",
              "      <td>d</td>\n",
              "      <td>a</td>\n",
              "    </tr>\n",
              "    <tr>\n",
              "      <th>1</th>\n",
              "      <td>p</td>\n",
              "      <td>2.27</td>\n",
              "      <td>o</td>\n",
              "      <td>g</td>\n",
              "      <td>f</td>\n",
              "      <td>f</td>\n",
              "      <td>f</td>\n",
              "      <td>0.00</td>\n",
              "      <td>0.00</td>\n",
              "      <td>f</td>\n",
              "      <td>f</td>\n",
              "      <td>f</td>\n",
              "      <td>d</td>\n",
              "      <td>s</td>\n",
              "    </tr>\n",
              "    <tr>\n",
              "      <th>2</th>\n",
              "      <td>p</td>\n",
              "      <td>5.59</td>\n",
              "      <td>c</td>\n",
              "      <td>y</td>\n",
              "      <td>t</td>\n",
              "      <td>x</td>\n",
              "      <td>p</td>\n",
              "      <td>5.47</td>\n",
              "      <td>11.27</td>\n",
              "      <td>w</td>\n",
              "      <td>f</td>\n",
              "      <td>f</td>\n",
              "      <td>d</td>\n",
              "      <td>a</td>\n",
              "    </tr>\n",
              "    <tr>\n",
              "      <th>3</th>\n",
              "      <td>p</td>\n",
              "      <td>0.74</td>\n",
              "      <td>x</td>\n",
              "      <td>p</td>\n",
              "      <td>f</td>\n",
              "      <td>a</td>\n",
              "      <td>n</td>\n",
              "      <td>4.33</td>\n",
              "      <td>0.98</td>\n",
              "      <td>k</td>\n",
              "      <td>f</td>\n",
              "      <td>f</td>\n",
              "      <td>d</td>\n",
              "      <td>a</td>\n",
              "    </tr>\n",
              "    <tr>\n",
              "      <th>4</th>\n",
              "      <td>p</td>\n",
              "      <td>9.60</td>\n",
              "      <td>x</td>\n",
              "      <td>n</td>\n",
              "      <td>f</td>\n",
              "      <td>a</td>\n",
              "      <td>w</td>\n",
              "      <td>10.84</td>\n",
              "      <td>28.52</td>\n",
              "      <td>w</td>\n",
              "      <td>f</td>\n",
              "      <td>f</td>\n",
              "      <td>d</td>\n",
              "      <td>u</td>\n",
              "    </tr>\n",
              "  </tbody>\n",
              "</table>\n",
              "</div>\n",
              "      <button class=\"colab-df-convert\" onclick=\"convertToInteractive('df-d62cc336-e005-475d-a514-9f23c3814395')\"\n",
              "              title=\"Convert this dataframe to an interactive table.\"\n",
              "              style=\"display:none;\">\n",
              "        \n",
              "  <svg xmlns=\"http://www.w3.org/2000/svg\" height=\"24px\"viewBox=\"0 0 24 24\"\n",
              "       width=\"24px\">\n",
              "    <path d=\"M0 0h24v24H0V0z\" fill=\"none\"/>\n",
              "    <path d=\"M18.56 5.44l.94 2.06.94-2.06 2.06-.94-2.06-.94-.94-2.06-.94 2.06-2.06.94zm-11 1L8.5 8.5l.94-2.06 2.06-.94-2.06-.94L8.5 2.5l-.94 2.06-2.06.94zm10 10l.94 2.06.94-2.06 2.06-.94-2.06-.94-.94-2.06-.94 2.06-2.06.94z\"/><path d=\"M17.41 7.96l-1.37-1.37c-.4-.4-.92-.59-1.43-.59-.52 0-1.04.2-1.43.59L10.3 9.45l-7.72 7.72c-.78.78-.78 2.05 0 2.83L4 21.41c.39.39.9.59 1.41.59.51 0 1.02-.2 1.41-.59l7.78-7.78 2.81-2.81c.8-.78.8-2.07 0-2.86zM5.41 20L4 18.59l7.72-7.72 1.47 1.35L5.41 20z\"/>\n",
              "  </svg>\n",
              "      </button>\n",
              "      \n",
              "  <style>\n",
              "    .colab-df-container {\n",
              "      display:flex;\n",
              "      flex-wrap:wrap;\n",
              "      gap: 12px;\n",
              "    }\n",
              "\n",
              "    .colab-df-convert {\n",
              "      background-color: #E8F0FE;\n",
              "      border: none;\n",
              "      border-radius: 50%;\n",
              "      cursor: pointer;\n",
              "      display: none;\n",
              "      fill: #1967D2;\n",
              "      height: 32px;\n",
              "      padding: 0 0 0 0;\n",
              "      width: 32px;\n",
              "    }\n",
              "\n",
              "    .colab-df-convert:hover {\n",
              "      background-color: #E2EBFA;\n",
              "      box-shadow: 0px 1px 2px rgba(60, 64, 67, 0.3), 0px 1px 3px 1px rgba(60, 64, 67, 0.15);\n",
              "      fill: #174EA6;\n",
              "    }\n",
              "\n",
              "    [theme=dark] .colab-df-convert {\n",
              "      background-color: #3B4455;\n",
              "      fill: #D2E3FC;\n",
              "    }\n",
              "\n",
              "    [theme=dark] .colab-df-convert:hover {\n",
              "      background-color: #434B5C;\n",
              "      box-shadow: 0px 1px 3px 1px rgba(0, 0, 0, 0.15);\n",
              "      filter: drop-shadow(0px 1px 2px rgba(0, 0, 0, 0.3));\n",
              "      fill: #FFFFFF;\n",
              "    }\n",
              "  </style>\n",
              "\n",
              "      <script>\n",
              "        const buttonEl =\n",
              "          document.querySelector('#df-d62cc336-e005-475d-a514-9f23c3814395 button.colab-df-convert');\n",
              "        buttonEl.style.display =\n",
              "          google.colab.kernel.accessAllowed ? 'block' : 'none';\n",
              "\n",
              "        async function convertToInteractive(key) {\n",
              "          const element = document.querySelector('#df-d62cc336-e005-475d-a514-9f23c3814395');\n",
              "          const dataTable =\n",
              "            await google.colab.kernel.invokeFunction('convertToInteractive',\n",
              "                                                     [key], {});\n",
              "          if (!dataTable) return;\n",
              "\n",
              "          const docLinkHtml = 'Like what you see? Visit the ' +\n",
              "            '<a target=\"_blank\" href=https://colab.research.google.com/notebooks/data_table.ipynb>data table notebook</a>'\n",
              "            + ' to learn more about interactive tables.';\n",
              "          element.innerHTML = '';\n",
              "          dataTable['output_type'] = 'display_data';\n",
              "          await google.colab.output.renderOutput(dataTable, element);\n",
              "          const docLink = document.createElement('div');\n",
              "          docLink.innerHTML = docLinkHtml;\n",
              "          element.appendChild(docLink);\n",
              "        }\n",
              "      </script>\n",
              "    </div>\n",
              "  </div>\n",
              "  "
            ],
            "text/plain": [
              "  edible-poisonous  cap-diameter cap-shape  ... ring-type habitat season\n",
              "0                p          5.75         x  ...         f       d      a\n",
              "1                p          2.27         o  ...         f       d      s\n",
              "2                p          5.59         c  ...         f       d      a\n",
              "3                p          0.74         x  ...         f       d      a\n",
              "4                p          9.60         x  ...         f       d      u\n",
              "\n",
              "[5 rows x 14 columns]"
            ]
          },
          "metadata": {},
          "execution_count": 89
        }
      ],
      "source": [
        "train_org_df = pd.read_csv(data_dir+'/train.csv')\n",
        "train_org_df.head()"
      ]
    },
    {
      "cell_type": "code",
      "execution_count": 90,
      "metadata": {
        "colab": {
          "base_uri": "https://localhost:8080/",
          "height": 322
        },
        "id": "KsFzrIE-f_6p",
        "outputId": "2c7af925-0167-41dd-caf1-536adb1834c5"
      },
      "outputs": [
        {
          "output_type": "execute_result",
          "data": {
            "text/html": [
              "\n",
              "  <div id=\"df-fc58f6d4-e37f-489c-a59b-1c3acc47b4b4\">\n",
              "    <div class=\"colab-df-container\">\n",
              "      <div>\n",
              "<style scoped>\n",
              "    .dataframe tbody tr th:only-of-type {\n",
              "        vertical-align: middle;\n",
              "    }\n",
              "\n",
              "    .dataframe tbody tr th {\n",
              "        vertical-align: top;\n",
              "    }\n",
              "\n",
              "    .dataframe thead th {\n",
              "        text-align: right;\n",
              "    }\n",
              "</style>\n",
              "<table border=\"1\" class=\"dataframe\">\n",
              "  <thead>\n",
              "    <tr style=\"text-align: right;\">\n",
              "      <th></th>\n",
              "      <th>edible-poisonous</th>\n",
              "      <th>cap-diameter</th>\n",
              "      <th>cap-shape</th>\n",
              "      <th>cap-color</th>\n",
              "      <th>does-bruise-or-bleed</th>\n",
              "      <th>gill-attachment</th>\n",
              "      <th>gill-color</th>\n",
              "      <th>stem-height</th>\n",
              "      <th>stem-width</th>\n",
              "      <th>stem-color</th>\n",
              "      <th>has-ring</th>\n",
              "      <th>ring-type</th>\n",
              "      <th>habitat</th>\n",
              "      <th>season</th>\n",
              "    </tr>\n",
              "  </thead>\n",
              "  <tbody>\n",
              "    <tr>\n",
              "      <th>0</th>\n",
              "      <td>e</td>\n",
              "      <td>4.68</td>\n",
              "      <td>x</td>\n",
              "      <td>w</td>\n",
              "      <td>f</td>\n",
              "      <td>x</td>\n",
              "      <td>w</td>\n",
              "      <td>8.22</td>\n",
              "      <td>9.58</td>\n",
              "      <td>n</td>\n",
              "      <td>t</td>\n",
              "      <td>NaN</td>\n",
              "      <td>g</td>\n",
              "      <td>NaN</td>\n",
              "    </tr>\n",
              "    <tr>\n",
              "      <th>1</th>\n",
              "      <td>p</td>\n",
              "      <td>10.33</td>\n",
              "      <td>x</td>\n",
              "      <td>y</td>\n",
              "      <td>f</td>\n",
              "      <td>a</td>\n",
              "      <td>y</td>\n",
              "      <td>11.98</td>\n",
              "      <td>13.29</td>\n",
              "      <td>y</td>\n",
              "      <td>t</td>\n",
              "      <td>NaN</td>\n",
              "      <td>d</td>\n",
              "      <td>NaN</td>\n",
              "    </tr>\n",
              "    <tr>\n",
              "      <th>2</th>\n",
              "      <td>p</td>\n",
              "      <td>9.26</td>\n",
              "      <td>x</td>\n",
              "      <td>w</td>\n",
              "      <td>t</td>\n",
              "      <td>NaN</td>\n",
              "      <td>w</td>\n",
              "      <td>7.41</td>\n",
              "      <td>12.68</td>\n",
              "      <td>w</td>\n",
              "      <td>t</td>\n",
              "      <td>l</td>\n",
              "      <td>g</td>\n",
              "      <td>NaN</td>\n",
              "    </tr>\n",
              "    <tr>\n",
              "      <th>3</th>\n",
              "      <td>p</td>\n",
              "      <td>14.90</td>\n",
              "      <td>s</td>\n",
              "      <td>w</td>\n",
              "      <td>t</td>\n",
              "      <td>d</td>\n",
              "      <td>w</td>\n",
              "      <td>5.33</td>\n",
              "      <td>23.03</td>\n",
              "      <td>w</td>\n",
              "      <td>f</td>\n",
              "      <td>f</td>\n",
              "      <td>d</td>\n",
              "      <td>NaN</td>\n",
              "    </tr>\n",
              "    <tr>\n",
              "      <th>4</th>\n",
              "      <td>p</td>\n",
              "      <td>1.01</td>\n",
              "      <td>x</td>\n",
              "      <td>w</td>\n",
              "      <td>f</td>\n",
              "      <td>a</td>\n",
              "      <td>w</td>\n",
              "      <td>3.17</td>\n",
              "      <td>1.64</td>\n",
              "      <td>e</td>\n",
              "      <td>f</td>\n",
              "      <td>f</td>\n",
              "      <td>l</td>\n",
              "      <td>NaN</td>\n",
              "    </tr>\n",
              "  </tbody>\n",
              "</table>\n",
              "</div>\n",
              "      <button class=\"colab-df-convert\" onclick=\"convertToInteractive('df-fc58f6d4-e37f-489c-a59b-1c3acc47b4b4')\"\n",
              "              title=\"Convert this dataframe to an interactive table.\"\n",
              "              style=\"display:none;\">\n",
              "        \n",
              "  <svg xmlns=\"http://www.w3.org/2000/svg\" height=\"24px\"viewBox=\"0 0 24 24\"\n",
              "       width=\"24px\">\n",
              "    <path d=\"M0 0h24v24H0V0z\" fill=\"none\"/>\n",
              "    <path d=\"M18.56 5.44l.94 2.06.94-2.06 2.06-.94-2.06-.94-.94-2.06-.94 2.06-2.06.94zm-11 1L8.5 8.5l.94-2.06 2.06-.94-2.06-.94L8.5 2.5l-.94 2.06-2.06.94zm10 10l.94 2.06.94-2.06 2.06-.94-2.06-.94-.94-2.06-.94 2.06-2.06.94z\"/><path d=\"M17.41 7.96l-1.37-1.37c-.4-.4-.92-.59-1.43-.59-.52 0-1.04.2-1.43.59L10.3 9.45l-7.72 7.72c-.78.78-.78 2.05 0 2.83L4 21.41c.39.39.9.59 1.41.59.51 0 1.02-.2 1.41-.59l7.78-7.78 2.81-2.81c.8-.78.8-2.07 0-2.86zM5.41 20L4 18.59l7.72-7.72 1.47 1.35L5.41 20z\"/>\n",
              "  </svg>\n",
              "      </button>\n",
              "      \n",
              "  <style>\n",
              "    .colab-df-container {\n",
              "      display:flex;\n",
              "      flex-wrap:wrap;\n",
              "      gap: 12px;\n",
              "    }\n",
              "\n",
              "    .colab-df-convert {\n",
              "      background-color: #E8F0FE;\n",
              "      border: none;\n",
              "      border-radius: 50%;\n",
              "      cursor: pointer;\n",
              "      display: none;\n",
              "      fill: #1967D2;\n",
              "      height: 32px;\n",
              "      padding: 0 0 0 0;\n",
              "      width: 32px;\n",
              "    }\n",
              "\n",
              "    .colab-df-convert:hover {\n",
              "      background-color: #E2EBFA;\n",
              "      box-shadow: 0px 1px 2px rgba(60, 64, 67, 0.3), 0px 1px 3px 1px rgba(60, 64, 67, 0.15);\n",
              "      fill: #174EA6;\n",
              "    }\n",
              "\n",
              "    [theme=dark] .colab-df-convert {\n",
              "      background-color: #3B4455;\n",
              "      fill: #D2E3FC;\n",
              "    }\n",
              "\n",
              "    [theme=dark] .colab-df-convert:hover {\n",
              "      background-color: #434B5C;\n",
              "      box-shadow: 0px 1px 3px 1px rgba(0, 0, 0, 0.15);\n",
              "      filter: drop-shadow(0px 1px 2px rgba(0, 0, 0, 0.3));\n",
              "      fill: #FFFFFF;\n",
              "    }\n",
              "  </style>\n",
              "\n",
              "      <script>\n",
              "        const buttonEl =\n",
              "          document.querySelector('#df-fc58f6d4-e37f-489c-a59b-1c3acc47b4b4 button.colab-df-convert');\n",
              "        buttonEl.style.display =\n",
              "          google.colab.kernel.accessAllowed ? 'block' : 'none';\n",
              "\n",
              "        async function convertToInteractive(key) {\n",
              "          const element = document.querySelector('#df-fc58f6d4-e37f-489c-a59b-1c3acc47b4b4');\n",
              "          const dataTable =\n",
              "            await google.colab.kernel.invokeFunction('convertToInteractive',\n",
              "                                                     [key], {});\n",
              "          if (!dataTable) return;\n",
              "\n",
              "          const docLinkHtml = 'Like what you see? Visit the ' +\n",
              "            '<a target=\"_blank\" href=https://colab.research.google.com/notebooks/data_table.ipynb>data table notebook</a>'\n",
              "            + ' to learn more about interactive tables.';\n",
              "          element.innerHTML = '';\n",
              "          dataTable['output_type'] = 'display_data';\n",
              "          await google.colab.output.renderOutput(dataTable, element);\n",
              "          const docLink = document.createElement('div');\n",
              "          docLink.innerHTML = docLinkHtml;\n",
              "          element.appendChild(docLink);\n",
              "        }\n",
              "      </script>\n",
              "    </div>\n",
              "  </div>\n",
              "  "
            ],
            "text/plain": [
              "  edible-poisonous  cap-diameter cap-shape  ... ring-type habitat season\n",
              "0                e          4.68         x  ...       NaN       g    NaN\n",
              "1                p         10.33         x  ...       NaN       d    NaN\n",
              "2                p          9.26         x  ...         l       g    NaN\n",
              "3                p         14.90         s  ...         f       d    NaN\n",
              "4                p          1.01         x  ...         f       l    NaN\n",
              "\n",
              "[5 rows x 14 columns]"
            ]
          },
          "metadata": {},
          "execution_count": 90
        }
      ],
      "source": [
        "test_org_df = pd.read_csv(data_dir+'/test.csv')\n",
        "test_org_df.head()"
      ]
    },
    {
      "cell_type": "code",
      "execution_count": 91,
      "metadata": {
        "colab": {
          "base_uri": "https://localhost:8080/",
          "height": 206
        },
        "id": "aIRvOR42gCTF",
        "outputId": "220aab7b-9750-4916-ab59-73c3d198b3df"
      },
      "outputs": [
        {
          "output_type": "execute_result",
          "data": {
            "text/html": [
              "\n",
              "  <div id=\"df-48c2fb29-0259-447e-a583-364ca8e33d9e\">\n",
              "    <div class=\"colab-df-container\">\n",
              "      <div>\n",
              "<style scoped>\n",
              "    .dataframe tbody tr th:only-of-type {\n",
              "        vertical-align: middle;\n",
              "    }\n",
              "\n",
              "    .dataframe tbody tr th {\n",
              "        vertical-align: top;\n",
              "    }\n",
              "\n",
              "    .dataframe thead th {\n",
              "        text-align: right;\n",
              "    }\n",
              "</style>\n",
              "<table border=\"1\" class=\"dataframe\">\n",
              "  <thead>\n",
              "    <tr style=\"text-align: right;\">\n",
              "      <th></th>\n",
              "      <th>season</th>\n",
              "    </tr>\n",
              "  </thead>\n",
              "  <tbody>\n",
              "    <tr>\n",
              "      <th>0</th>\n",
              "      <td>a</td>\n",
              "    </tr>\n",
              "    <tr>\n",
              "      <th>1</th>\n",
              "      <td>a</td>\n",
              "    </tr>\n",
              "    <tr>\n",
              "      <th>2</th>\n",
              "      <td>a</td>\n",
              "    </tr>\n",
              "    <tr>\n",
              "      <th>3</th>\n",
              "      <td>a</td>\n",
              "    </tr>\n",
              "    <tr>\n",
              "      <th>4</th>\n",
              "      <td>a</td>\n",
              "    </tr>\n",
              "  </tbody>\n",
              "</table>\n",
              "</div>\n",
              "      <button class=\"colab-df-convert\" onclick=\"convertToInteractive('df-48c2fb29-0259-447e-a583-364ca8e33d9e')\"\n",
              "              title=\"Convert this dataframe to an interactive table.\"\n",
              "              style=\"display:none;\">\n",
              "        \n",
              "  <svg xmlns=\"http://www.w3.org/2000/svg\" height=\"24px\"viewBox=\"0 0 24 24\"\n",
              "       width=\"24px\">\n",
              "    <path d=\"M0 0h24v24H0V0z\" fill=\"none\"/>\n",
              "    <path d=\"M18.56 5.44l.94 2.06.94-2.06 2.06-.94-2.06-.94-.94-2.06-.94 2.06-2.06.94zm-11 1L8.5 8.5l.94-2.06 2.06-.94-2.06-.94L8.5 2.5l-.94 2.06-2.06.94zm10 10l.94 2.06.94-2.06 2.06-.94-2.06-.94-.94-2.06-.94 2.06-2.06.94z\"/><path d=\"M17.41 7.96l-1.37-1.37c-.4-.4-.92-.59-1.43-.59-.52 0-1.04.2-1.43.59L10.3 9.45l-7.72 7.72c-.78.78-.78 2.05 0 2.83L4 21.41c.39.39.9.59 1.41.59.51 0 1.02-.2 1.41-.59l7.78-7.78 2.81-2.81c.8-.78.8-2.07 0-2.86zM5.41 20L4 18.59l7.72-7.72 1.47 1.35L5.41 20z\"/>\n",
              "  </svg>\n",
              "      </button>\n",
              "      \n",
              "  <style>\n",
              "    .colab-df-container {\n",
              "      display:flex;\n",
              "      flex-wrap:wrap;\n",
              "      gap: 12px;\n",
              "    }\n",
              "\n",
              "    .colab-df-convert {\n",
              "      background-color: #E8F0FE;\n",
              "      border: none;\n",
              "      border-radius: 50%;\n",
              "      cursor: pointer;\n",
              "      display: none;\n",
              "      fill: #1967D2;\n",
              "      height: 32px;\n",
              "      padding: 0 0 0 0;\n",
              "      width: 32px;\n",
              "    }\n",
              "\n",
              "    .colab-df-convert:hover {\n",
              "      background-color: #E2EBFA;\n",
              "      box-shadow: 0px 1px 2px rgba(60, 64, 67, 0.3), 0px 1px 3px 1px rgba(60, 64, 67, 0.15);\n",
              "      fill: #174EA6;\n",
              "    }\n",
              "\n",
              "    [theme=dark] .colab-df-convert {\n",
              "      background-color: #3B4455;\n",
              "      fill: #D2E3FC;\n",
              "    }\n",
              "\n",
              "    [theme=dark] .colab-df-convert:hover {\n",
              "      background-color: #434B5C;\n",
              "      box-shadow: 0px 1px 3px 1px rgba(0, 0, 0, 0.15);\n",
              "      filter: drop-shadow(0px 1px 2px rgba(0, 0, 0, 0.3));\n",
              "      fill: #FFFFFF;\n",
              "    }\n",
              "  </style>\n",
              "\n",
              "      <script>\n",
              "        const buttonEl =\n",
              "          document.querySelector('#df-48c2fb29-0259-447e-a583-364ca8e33d9e button.colab-df-convert');\n",
              "        buttonEl.style.display =\n",
              "          google.colab.kernel.accessAllowed ? 'block' : 'none';\n",
              "\n",
              "        async function convertToInteractive(key) {\n",
              "          const element = document.querySelector('#df-48c2fb29-0259-447e-a583-364ca8e33d9e');\n",
              "          const dataTable =\n",
              "            await google.colab.kernel.invokeFunction('convertToInteractive',\n",
              "                                                     [key], {});\n",
              "          if (!dataTable) return;\n",
              "\n",
              "          const docLinkHtml = 'Like what you see? Visit the ' +\n",
              "            '<a target=\"_blank\" href=https://colab.research.google.com/notebooks/data_table.ipynb>data table notebook</a>'\n",
              "            + ' to learn more about interactive tables.';\n",
              "          element.innerHTML = '';\n",
              "          dataTable['output_type'] = 'display_data';\n",
              "          await google.colab.output.renderOutput(dataTable, element);\n",
              "          const docLink = document.createElement('div');\n",
              "          docLink.innerHTML = docLinkHtml;\n",
              "          element.appendChild(docLink);\n",
              "        }\n",
              "      </script>\n",
              "    </div>\n",
              "  </div>\n",
              "  "
            ],
            "text/plain": [
              "  season\n",
              "0      a\n",
              "1      a\n",
              "2      a\n",
              "3      a\n",
              "4      a"
            ]
          },
          "metadata": {},
          "execution_count": 91
        }
      ],
      "source": [
        "sample_df = pd.read_csv(data_dir+'/sample_submission.csv')\n",
        "sample_df.head()"
      ]
    },
    {
      "cell_type": "markdown",
      "metadata": {
        "id": "1KhnGadIgL8w"
      },
      "source": [
        "# Data Inspection"
      ]
    },
    {
      "cell_type": "code",
      "execution_count": 92,
      "metadata": {
        "colab": {
          "base_uri": "https://localhost:8080/"
        },
        "id": "iKpFvtnDgHI9",
        "outputId": "cb5b393d-3406-4721-e8b9-ddf97edc8a71"
      },
      "outputs": [
        {
          "output_type": "execute_result",
          "data": {
            "text/plain": [
              "((42748, 14), (18321, 14))"
            ]
          },
          "metadata": {},
          "execution_count": 92
        }
      ],
      "source": [
        "train_org_df.shape, test_org_df.shape"
      ]
    },
    {
      "cell_type": "code",
      "execution_count": 93,
      "metadata": {
        "colab": {
          "base_uri": "https://localhost:8080/"
        },
        "id": "ttGEl5nbgk0_",
        "outputId": "73613b0c-a5ff-49d2-bf76-1b633405b027"
      },
      "outputs": [
        {
          "output_type": "stream",
          "name": "stdout",
          "text": [
            "<class 'pandas.core.frame.DataFrame'>\n",
            "RangeIndex: 42748 entries, 0 to 42747\n",
            "Data columns (total 14 columns):\n",
            " #   Column                Non-Null Count  Dtype  \n",
            "---  ------                --------------  -----  \n",
            " 0   edible-poisonous      42748 non-null  object \n",
            " 1   cap-diameter          42748 non-null  float64\n",
            " 2   cap-shape             42748 non-null  object \n",
            " 3   cap-color             42748 non-null  object \n",
            " 4   does-bruise-or-bleed  42748 non-null  object \n",
            " 5   gill-attachment       35808 non-null  object \n",
            " 6   gill-color            42748 non-null  object \n",
            " 7   stem-height           42748 non-null  float64\n",
            " 8   stem-width            42748 non-null  float64\n",
            " 9   stem-color            42748 non-null  object \n",
            " 10  has-ring              42748 non-null  object \n",
            " 11  ring-type             41029 non-null  object \n",
            " 12  habitat               42748 non-null  object \n",
            " 13  season                42748 non-null  object \n",
            "dtypes: float64(3), object(11)\n",
            "memory usage: 4.6+ MB\n"
          ]
        }
      ],
      "source": [
        "train_org_df.info()"
      ]
    },
    {
      "cell_type": "markdown",
      "metadata": {
        "id": "qKs0zvfEgr9V"
      },
      "source": [
        "## Unique values"
      ]
    },
    {
      "cell_type": "code",
      "execution_count": 94,
      "metadata": {
        "id": "0R5f8PBrgl6H"
      },
      "outputs": [],
      "source": [
        "def unique_value_for_dataframe(df):\n",
        "  for cols in df.columns:\n",
        "    print('----------Unique values in \"'+ cols +'\" column-------------------')\n",
        "    print(df[cols].unique())\n",
        "    print('-----------End of unique values for \"' + cols +'\" columns ---------------\\n' )"
      ]
    },
    {
      "cell_type": "code",
      "execution_count": 95,
      "metadata": {
        "colab": {
          "base_uri": "https://localhost:8080/"
        },
        "id": "SYE0vS62gmIY",
        "outputId": "dfac21ad-9734-4399-e781-7bb892f86c24"
      },
      "outputs": [
        {
          "output_type": "stream",
          "name": "stdout",
          "text": [
            "----------Unique values in \"edible-poisonous\" column-------------------\n",
            "['p' 'e']\n",
            "-----------End of unique values for \"edible-poisonous\" columns ---------------\n",
            "\n",
            "----------Unique values in \"cap-diameter\" column-------------------\n",
            "[ 5.75  2.27  5.59 ... 53.34 50.17 18.77]\n",
            "-----------End of unique values for \"cap-diameter\" columns ---------------\n",
            "\n",
            "----------Unique values in \"cap-shape\" column-------------------\n",
            "['x' 'o' 'c' 'f' 'b' 's' 'p']\n",
            "-----------End of unique values for \"cap-shape\" columns ---------------\n",
            "\n",
            "----------Unique values in \"cap-color\" column-------------------\n",
            "['n' 'g' 'y' 'p' 'w' 'o' 'l' 'r' 'e' 'b' 'k' 'u']\n",
            "-----------End of unique values for \"cap-color\" columns ---------------\n",
            "\n",
            "----------Unique values in \"does-bruise-or-bleed\" column-------------------\n",
            "['t' 'f']\n",
            "-----------End of unique values for \"does-bruise-or-bleed\" columns ---------------\n",
            "\n",
            "----------Unique values in \"gill-attachment\" column-------------------\n",
            "['s' 'f' 'x' 'a' 'e' nan 'd' 'p']\n",
            "-----------End of unique values for \"gill-attachment\" columns ---------------\n",
            "\n",
            "----------Unique values in \"gill-color\" column-------------------\n",
            "['w' 'f' 'p' 'n' 'g' 'y' 'o' 'k' 'r' 'u' 'b' 'e']\n",
            "-----------End of unique values for \"gill-color\" columns ---------------\n",
            "\n",
            "----------Unique values in \"stem-height\" column-------------------\n",
            "[ 6.13  0.    5.47 ... 25.05 28.44 21.86]\n",
            "-----------End of unique values for \"stem-height\" columns ---------------\n",
            "\n",
            "----------Unique values in \"stem-width\" column-------------------\n",
            "[14.93  0.   11.27 ... 50.4  28.16 64.35]\n",
            "-----------End of unique values for \"stem-width\" columns ---------------\n",
            "\n",
            "----------Unique values in \"stem-color\" column-------------------\n",
            "['w' 'f' 'k' 'g' 'n' 'o' 'e' 'y' 'p' 'u' 'l' 'r' 'b']\n",
            "-----------End of unique values for \"stem-color\" columns ---------------\n",
            "\n",
            "----------Unique values in \"has-ring\" column-------------------\n",
            "['f' 't']\n",
            "-----------End of unique values for \"has-ring\" columns ---------------\n",
            "\n",
            "----------Unique values in \"ring-type\" column-------------------\n",
            "['f' 'p' nan 'l' 'z' 'g' 'm' 'e' 'r']\n",
            "-----------End of unique values for \"ring-type\" columns ---------------\n",
            "\n",
            "----------Unique values in \"habitat\" column-------------------\n",
            "['d' 'l' 'g' 'w' 'm' 'p' 'h' 'u']\n",
            "-----------End of unique values for \"habitat\" columns ---------------\n",
            "\n",
            "----------Unique values in \"season\" column-------------------\n",
            "['a' 's' 'u' 'w']\n",
            "-----------End of unique values for \"season\" columns ---------------\n",
            "\n"
          ]
        }
      ],
      "source": [
        "unique_value_for_dataframe(train_org_df)"
      ]
    },
    {
      "cell_type": "markdown",
      "metadata": {
        "id": "yOC_p7ubhCeW"
      },
      "source": [
        "## Null values Count"
      ]
    },
    {
      "cell_type": "code",
      "execution_count": 96,
      "metadata": {
        "colab": {
          "base_uri": "https://localhost:8080/"
        },
        "id": "QYYAST41gmQn",
        "outputId": "9216cdb5-0b3a-47bd-df00-49637dded1d5"
      },
      "outputs": [
        {
          "output_type": "execute_result",
          "data": {
            "text/plain": [
              "edible-poisonous           0\n",
              "cap-diameter               0\n",
              "cap-shape                  0\n",
              "cap-color                  0\n",
              "does-bruise-or-bleed       0\n",
              "gill-attachment         6940\n",
              "gill-color                 0\n",
              "stem-height                0\n",
              "stem-width                 0\n",
              "stem-color                 0\n",
              "has-ring                   0\n",
              "ring-type               1719\n",
              "habitat                    0\n",
              "season                     0\n",
              "dtype: int64"
            ]
          },
          "metadata": {},
          "execution_count": 96
        }
      ],
      "source": [
        "train_org_df.isna().sum()"
      ]
    },
    {
      "cell_type": "markdown",
      "metadata": {
        "id": "QrwfQnOHhHmg"
      },
      "source": [
        "## Data types of the columns:"
      ]
    },
    {
      "cell_type": "code",
      "execution_count": 97,
      "metadata": {
        "colab": {
          "base_uri": "https://localhost:8080/"
        },
        "id": "31zuhalbgmXA",
        "outputId": "35c2b521-386b-4496-f609-207487a41dc7"
      },
      "outputs": [
        {
          "output_type": "stream",
          "name": "stdout",
          "text": [
            "<class 'pandas.core.frame.DataFrame'>\n",
            "RangeIndex: 42748 entries, 0 to 42747\n",
            "Data columns (total 14 columns):\n",
            " #   Column                Non-Null Count  Dtype  \n",
            "---  ------                --------------  -----  \n",
            " 0   edible-poisonous      42748 non-null  object \n",
            " 1   cap-diameter          42748 non-null  float64\n",
            " 2   cap-shape             42748 non-null  object \n",
            " 3   cap-color             42748 non-null  object \n",
            " 4   does-bruise-or-bleed  42748 non-null  object \n",
            " 5   gill-attachment       35808 non-null  object \n",
            " 6   gill-color            42748 non-null  object \n",
            " 7   stem-height           42748 non-null  float64\n",
            " 8   stem-width            42748 non-null  float64\n",
            " 9   stem-color            42748 non-null  object \n",
            " 10  has-ring              42748 non-null  object \n",
            " 11  ring-type             41029 non-null  object \n",
            " 12  habitat               42748 non-null  object \n",
            " 13  season                42748 non-null  object \n",
            "dtypes: float64(3), object(11)\n",
            "memory usage: 4.6+ MB\n"
          ]
        }
      ],
      "source": [
        "train_org_df.info()"
      ]
    },
    {
      "cell_type": "markdown",
      "metadata": {
        "id": "Y0bLbRa6hNje"
      },
      "source": [
        "## Inferences from the data inspected:\n",
        "\n",
        "* There are some null values in the columns `gill-attachment` and `ring-type`\n",
        "* the stem-width is in mm and all otehr numerical dimensions are in cm. So convert the same into similar units. "
      ]
    },
    {
      "cell_type": "markdown",
      "metadata": {
        "id": "sP1LtBwCgNrr"
      },
      "source": [
        "# Data Cleaning and Preparation"
      ]
    },
    {
      "cell_type": "markdown",
      "metadata": {
        "id": "WxLbK-DFpscs"
      },
      "source": [
        "### gill-attachment"
      ]
    },
    {
      "cell_type": "code",
      "execution_count": 98,
      "metadata": {
        "colab": {
          "base_uri": "https://localhost:8080/",
          "height": 284
        },
        "id": "c16t6YInhqUa",
        "outputId": "b4d9040a-849a-4a6d-9f5e-cc2d0d62b918"
      },
      "outputs": [
        {
          "output_type": "execute_result",
          "data": {
            "text/plain": [
              "<matplotlib.axes._subplots.AxesSubplot at 0x7f43c89e24d0>"
            ]
          },
          "metadata": {},
          "execution_count": 98
        },
        {
          "output_type": "display_data",
          "data": {
            "image/png": "[encoded data removed]",
            "text/plain": [
              "<Figure size 432x288 with 1 Axes>"
            ]
          },
          "metadata": {
            "needs_background": "light"
          }
        }
      ],
      "source": [
        "train_org_df['gill-attachment'].hist()"
      ]
    },
    {
      "cell_type": "code",
      "execution_count": 99,
      "metadata": {
        "colab": {
          "base_uri": "https://localhost:8080/"
        },
        "id": "Q8qTFJbXgTV7",
        "outputId": "c7f9d429-a40d-4044-e7f2-d37eb4846cdb"
      },
      "outputs": [
        {
          "output_type": "execute_result",
          "data": {
            "text/plain": [
              "gill-attachment\n",
              "f    2433\n",
              "e    3939\n",
              "s    3964\n",
              "p    4205\n",
              "x    5171\n",
              "d    7222\n",
              "a    8874\n",
              "Name: gill-attachment, dtype: int64"
            ]
          },
          "metadata": {},
          "execution_count": 99
        }
      ],
      "source": [
        "train_org_df.groupby('gill-attachment')['gill-attachment'].count().sort_values()"
      ]
    },
    {
      "cell_type": "code",
      "execution_count": 100,
      "metadata": {
        "colab": {
          "base_uri": "https://localhost:8080/"
        },
        "id": "2A_ojs1cgT1m",
        "outputId": "2f4b8180-b4ba-41d2-e214-798b9c4db3c9"
      },
      "outputs": [
        {
          "output_type": "execute_result",
          "data": {
            "text/plain": [
              "gill-attachment\n",
              "a    15814\n",
              "d     7222\n",
              "e     3939\n",
              "f     2433\n",
              "p     4205\n",
              "s     3964\n",
              "x     5171\n",
              "Name: gill-attachment, dtype: int64"
            ]
          },
          "metadata": {},
          "execution_count": 100
        }
      ],
      "source": [
        "train_org_df['gill-attachment'] = train_org_df['gill-attachment'].replace(np.nan, 'a' )\n",
        "train_org_df.groupby('gill-attachment')['gill-attachment'].count()"
      ]
    },
    {
      "cell_type": "code",
      "execution_count": 101,
      "metadata": {
        "colab": {
          "base_uri": "https://localhost:8080/"
        },
        "id": "yDW5vUcliH50",
        "outputId": "c0d66e63-86f4-4e0b-8d34-6ed064831623"
      },
      "outputs": [
        {
          "output_type": "execute_result",
          "data": {
            "text/plain": [
              "0"
            ]
          },
          "metadata": {},
          "execution_count": 101
        }
      ],
      "source": [
        "train_org_df['gill-attachment'].isna().sum()"
      ]
    },
    {
      "cell_type": "markdown",
      "metadata": {
        "id": "zn3TpvZ-ilJm"
      },
      "source": [
        "### ring-type column"
      ]
    },
    {
      "cell_type": "code",
      "execution_count": 102,
      "metadata": {
        "colab": {
          "base_uri": "https://localhost:8080/"
        },
        "id": "4d9EI2Hcihf8",
        "outputId": "bf1514b2-327b-443c-d008-a37d2d94fc60"
      },
      "outputs": [
        {
          "output_type": "execute_result",
          "data": {
            "text/plain": [
              "ring-type\n",
              "m      243\n",
              "g      853\n",
              "p      877\n",
              "r      992\n",
              "l     1004\n",
              "z     1493\n",
              "e     1703\n",
              "f    33864\n",
              "Name: ring-type, dtype: int64"
            ]
          },
          "metadata": {},
          "execution_count": 102
        }
      ],
      "source": [
        "train_org_df.groupby('ring-type')['ring-type'].count().sort_values()"
      ]
    },
    {
      "cell_type": "code",
      "execution_count": 103,
      "metadata": {
        "id": "RilkQ6jzihcU"
      },
      "outputs": [],
      "source": [
        "train_org_df['ring-type'] = train_org_df['ring-type'].replace(np.nan, 'f' )"
      ]
    },
    {
      "cell_type": "code",
      "execution_count": 104,
      "metadata": {
        "colab": {
          "base_uri": "https://localhost:8080/"
        },
        "id": "Q0TP2CjviH2C",
        "outputId": "673fc3e0-8957-4e88-ce64-e3b606516c17"
      },
      "outputs": [
        {
          "output_type": "execute_result",
          "data": {
            "text/plain": [
              "ring-type\n",
              "m      243\n",
              "g      853\n",
              "p      877\n",
              "r      992\n",
              "l     1004\n",
              "z     1493\n",
              "e     1703\n",
              "f    35583\n",
              "Name: ring-type, dtype: int64"
            ]
          },
          "metadata": {},
          "execution_count": 104
        }
      ],
      "source": [
        "train_org_df.groupby('ring-type')['ring-type'].count().sort_values()"
      ]
    },
    {
      "cell_type": "code",
      "execution_count": 105,
      "metadata": {
        "colab": {
          "base_uri": "https://localhost:8080/"
        },
        "id": "0UfQNeYMiHps",
        "outputId": "a3853b64-e379-4795-ee4a-a0e6c8f03c92"
      },
      "outputs": [
        {
          "output_type": "execute_result",
          "data": {
            "text/plain": [
              "0"
            ]
          },
          "metadata": {},
          "execution_count": 105
        }
      ],
      "source": [
        "train_org_df['ring-type'].isna().sum()"
      ]
    },
    {
      "cell_type": "code",
      "execution_count": 106,
      "metadata": {
        "colab": {
          "base_uri": "https://localhost:8080/"
        },
        "id": "kwXv7CENjJaV",
        "outputId": "5585daf1-7c24-42dd-94f8-cb2a5a859183"
      },
      "outputs": [
        {
          "output_type": "execute_result",
          "data": {
            "text/plain": [
              "edible-poisonous        0\n",
              "cap-diameter            0\n",
              "cap-shape               0\n",
              "cap-color               0\n",
              "does-bruise-or-bleed    0\n",
              "gill-attachment         0\n",
              "gill-color              0\n",
              "stem-height             0\n",
              "stem-width              0\n",
              "stem-color              0\n",
              "has-ring                0\n",
              "ring-type               0\n",
              "habitat                 0\n",
              "season                  0\n",
              "dtype: int64"
            ]
          },
          "metadata": {},
          "execution_count": 106
        }
      ],
      "source": [
        "train_org_df.isna().sum()"
      ]
    },
    {
      "cell_type": "markdown",
      "source": [
        "### Convert the numbers in column `stem-width` mm to cm"
      ],
      "metadata": {
        "id": "85SSBGV4gWET"
      }
    },
    {
      "cell_type": "code",
      "source": [
        "train_org_df['stem-width'] = train_org_df['stem-width']/10"
      ],
      "metadata": {
        "id": "Cq7G-ngZgVTg"
      },
      "execution_count": 107,
      "outputs": []
    },
    {
      "cell_type": "markdown",
      "metadata": {
        "id": "TKdEGkOnjRUy"
      },
      "source": [
        "### Selecting necessary columns into input and target columns"
      ]
    },
    {
      "cell_type": "code",
      "execution_count": 108,
      "metadata": {
        "colab": {
          "base_uri": "https://localhost:8080/"
        },
        "id": "CpZbHQVFjTLd",
        "outputId": "124d07a2-b255-4fb3-fef4-72a6a1a178e7"
      },
      "outputs": [
        {
          "output_type": "execute_result",
          "data": {
            "text/plain": [
              "Index(['edible-poisonous', 'cap-diameter', 'cap-shape', 'cap-color',\n",
              "       'does-bruise-or-bleed', 'gill-attachment', 'gill-color', 'stem-height',\n",
              "       'stem-width', 'stem-color', 'has-ring', 'ring-type', 'habitat',\n",
              "       'season'],\n",
              "      dtype='object')"
            ]
          },
          "metadata": {},
          "execution_count": 108
        }
      ],
      "source": [
        "train_org_df.columns"
      ]
    },
    {
      "cell_type": "code",
      "execution_count": 109,
      "metadata": {
        "id": "vFwB5ueHjTIN"
      },
      "outputs": [],
      "source": [
        "excluded_cols = ['season']"
      ]
    },
    {
      "cell_type": "code",
      "execution_count": 110,
      "metadata": {
        "colab": {
          "base_uri": "https://localhost:8080/"
        },
        "id": "K45MBeiijfyV",
        "outputId": "4ababe0e-b649-4c52-9bde-2bf6fbc0ddfa"
      },
      "outputs": [
        {
          "output_type": "execute_result",
          "data": {
            "text/plain": [
              "(['edible-poisonous',\n",
              "  'cap-diameter',\n",
              "  'cap-shape',\n",
              "  'cap-color',\n",
              "  'does-bruise-or-bleed',\n",
              "  'gill-attachment',\n",
              "  'gill-color',\n",
              "  'stem-height',\n",
              "  'stem-width',\n",
              "  'stem-color',\n",
              "  'has-ring',\n",
              "  'ring-type',\n",
              "  'habitat'],\n",
              " 'season')"
            ]
          },
          "metadata": {},
          "execution_count": 110
        }
      ],
      "source": [
        "input_cols = [ col for col in train_org_df.columns if col not in excluded_cols]\n",
        "target_col = 'season'\n",
        "input_cols, target_col"
      ]
    },
    {
      "cell_type": "code",
      "execution_count": 111,
      "metadata": {
        "colab": {
          "base_uri": "https://localhost:8080/",
          "height": 322
        },
        "id": "lckrJudKjfqf",
        "outputId": "3ffc4230-cbaf-45e5-b46b-ddca82bfeb15"
      },
      "outputs": [
        {
          "output_type": "execute_result",
          "data": {
            "text/html": [
              "\n",
              "  <div id=\"df-12c05f36-46be-4446-b71e-4248cb4fe73f\">\n",
              "    <div class=\"colab-df-container\">\n",
              "      <div>\n",
              "<style scoped>\n",
              "    .dataframe tbody tr th:only-of-type {\n",
              "        vertical-align: middle;\n",
              "    }\n",
              "\n",
              "    .dataframe tbody tr th {\n",
              "        vertical-align: top;\n",
              "    }\n",
              "\n",
              "    .dataframe thead th {\n",
              "        text-align: right;\n",
              "    }\n",
              "</style>\n",
              "<table border=\"1\" class=\"dataframe\">\n",
              "  <thead>\n",
              "    <tr style=\"text-align: right;\">\n",
              "      <th></th>\n",
              "      <th>edible-poisonous</th>\n",
              "      <th>cap-diameter</th>\n",
              "      <th>cap-shape</th>\n",
              "      <th>cap-color</th>\n",
              "      <th>does-bruise-or-bleed</th>\n",
              "      <th>gill-attachment</th>\n",
              "      <th>gill-color</th>\n",
              "      <th>stem-height</th>\n",
              "      <th>stem-width</th>\n",
              "      <th>stem-color</th>\n",
              "      <th>has-ring</th>\n",
              "      <th>ring-type</th>\n",
              "      <th>habitat</th>\n",
              "    </tr>\n",
              "  </thead>\n",
              "  <tbody>\n",
              "    <tr>\n",
              "      <th>0</th>\n",
              "      <td>p</td>\n",
              "      <td>5.75</td>\n",
              "      <td>x</td>\n",
              "      <td>n</td>\n",
              "      <td>t</td>\n",
              "      <td>s</td>\n",
              "      <td>w</td>\n",
              "      <td>6.13</td>\n",
              "      <td>1.493</td>\n",
              "      <td>w</td>\n",
              "      <td>f</td>\n",
              "      <td>f</td>\n",
              "      <td>d</td>\n",
              "    </tr>\n",
              "    <tr>\n",
              "      <th>1</th>\n",
              "      <td>p</td>\n",
              "      <td>2.27</td>\n",
              "      <td>o</td>\n",
              "      <td>g</td>\n",
              "      <td>f</td>\n",
              "      <td>f</td>\n",
              "      <td>f</td>\n",
              "      <td>0.00</td>\n",
              "      <td>0.000</td>\n",
              "      <td>f</td>\n",
              "      <td>f</td>\n",
              "      <td>f</td>\n",
              "      <td>d</td>\n",
              "    </tr>\n",
              "    <tr>\n",
              "      <th>2</th>\n",
              "      <td>p</td>\n",
              "      <td>5.59</td>\n",
              "      <td>c</td>\n",
              "      <td>y</td>\n",
              "      <td>t</td>\n",
              "      <td>x</td>\n",
              "      <td>p</td>\n",
              "      <td>5.47</td>\n",
              "      <td>1.127</td>\n",
              "      <td>w</td>\n",
              "      <td>f</td>\n",
              "      <td>f</td>\n",
              "      <td>d</td>\n",
              "    </tr>\n",
              "    <tr>\n",
              "      <th>3</th>\n",
              "      <td>p</td>\n",
              "      <td>0.74</td>\n",
              "      <td>x</td>\n",
              "      <td>p</td>\n",
              "      <td>f</td>\n",
              "      <td>a</td>\n",
              "      <td>n</td>\n",
              "      <td>4.33</td>\n",
              "      <td>0.098</td>\n",
              "      <td>k</td>\n",
              "      <td>f</td>\n",
              "      <td>f</td>\n",
              "      <td>d</td>\n",
              "    </tr>\n",
              "    <tr>\n",
              "      <th>4</th>\n",
              "      <td>p</td>\n",
              "      <td>9.60</td>\n",
              "      <td>x</td>\n",
              "      <td>n</td>\n",
              "      <td>f</td>\n",
              "      <td>a</td>\n",
              "      <td>w</td>\n",
              "      <td>10.84</td>\n",
              "      <td>2.852</td>\n",
              "      <td>w</td>\n",
              "      <td>f</td>\n",
              "      <td>f</td>\n",
              "      <td>d</td>\n",
              "    </tr>\n",
              "  </tbody>\n",
              "</table>\n",
              "</div>\n",
              "      <button class=\"colab-df-convert\" onclick=\"convertToInteractive('df-12c05f36-46be-4446-b71e-4248cb4fe73f')\"\n",
              "              title=\"Convert this dataframe to an interactive table.\"\n",
              "              style=\"display:none;\">\n",
              "        \n",
              "  <svg xmlns=\"http://www.w3.org/2000/svg\" height=\"24px\"viewBox=\"0 0 24 24\"\n",
              "       width=\"24px\">\n",
              "    <path d=\"M0 0h24v24H0V0z\" fill=\"none\"/>\n",
              "    <path d=\"M18.56 5.44l.94 2.06.94-2.06 2.06-.94-2.06-.94-.94-2.06-.94 2.06-2.06.94zm-11 1L8.5 8.5l.94-2.06 2.06-.94-2.06-.94L8.5 2.5l-.94 2.06-2.06.94zm10 10l.94 2.06.94-2.06 2.06-.94-2.06-.94-.94-2.06-.94 2.06-2.06.94z\"/><path d=\"M17.41 7.96l-1.37-1.37c-.4-.4-.92-.59-1.43-.59-.52 0-1.04.2-1.43.59L10.3 9.45l-7.72 7.72c-.78.78-.78 2.05 0 2.83L4 21.41c.39.39.9.59 1.41.59.51 0 1.02-.2 1.41-.59l7.78-7.78 2.81-2.81c.8-.78.8-2.07 0-2.86zM5.41 20L4 18.59l7.72-7.72 1.47 1.35L5.41 20z\"/>\n",
              "  </svg>\n",
              "      </button>\n",
              "      \n",
              "  <style>\n",
              "    .colab-df-container {\n",
              "      display:flex;\n",
              "      flex-wrap:wrap;\n",
              "      gap: 12px;\n",
              "    }\n",
              "\n",
              "    .colab-df-convert {\n",
              "      background-color: #E8F0FE;\n",
              "      border: none;\n",
              "      border-radius: 50%;\n",
              "      cursor: pointer;\n",
              "      display: none;\n",
              "      fill: #1967D2;\n",
              "      height: 32px;\n",
              "      padding: 0 0 0 0;\n",
              "      width: 32px;\n",
              "    }\n",
              "\n",
              "    .colab-df-convert:hover {\n",
              "      background-color: #E2EBFA;\n",
              "      box-shadow: 0px 1px 2px rgba(60, 64, 67, 0.3), 0px 1px 3px 1px rgba(60, 64, 67, 0.15);\n",
              "      fill: #174EA6;\n",
              "    }\n",
              "\n",
              "    [theme=dark] .colab-df-convert {\n",
              "      background-color: #3B4455;\n",
              "      fill: #D2E3FC;\n",
              "    }\n",
              "\n",
              "    [theme=dark] .colab-df-convert:hover {\n",
              "      background-color: #434B5C;\n",
              "      box-shadow: 0px 1px 3px 1px rgba(0, 0, 0, 0.15);\n",
              "      filter: drop-shadow(0px 1px 2px rgba(0, 0, 0, 0.3));\n",
              "      fill: #FFFFFF;\n",
              "    }\n",
              "  </style>\n",
              "\n",
              "      <script>\n",
              "        const buttonEl =\n",
              "          document.querySelector('#df-12c05f36-46be-4446-b71e-4248cb4fe73f button.colab-df-convert');\n",
              "        buttonEl.style.display =\n",
              "          google.colab.kernel.accessAllowed ? 'block' : 'none';\n",
              "\n",
              "        async function convertToInteractive(key) {\n",
              "          const element = document.querySelector('#df-12c05f36-46be-4446-b71e-4248cb4fe73f');\n",
              "          const dataTable =\n",
              "            await google.colab.kernel.invokeFunction('convertToInteractive',\n",
              "                                                     [key], {});\n",
              "          if (!dataTable) return;\n",
              "\n",
              "          const docLinkHtml = 'Like what you see? Visit the ' +\n",
              "            '<a target=\"_blank\" href=https://colab.research.google.com/notebooks/data_table.ipynb>data table notebook</a>'\n",
              "            + ' to learn more about interactive tables.';\n",
              "          element.innerHTML = '';\n",
              "          dataTable['output_type'] = 'display_data';\n",
              "          await google.colab.output.renderOutput(dataTable, element);\n",
              "          const docLink = document.createElement('div');\n",
              "          docLink.innerHTML = docLinkHtml;\n",
              "          element.appendChild(docLink);\n",
              "        }\n",
              "      </script>\n",
              "    </div>\n",
              "  </div>\n",
              "  "
            ],
            "text/plain": [
              "  edible-poisonous  cap-diameter cap-shape  ... has-ring ring-type habitat\n",
              "0                p          5.75         x  ...        f         f       d\n",
              "1                p          2.27         o  ...        f         f       d\n",
              "2                p          5.59         c  ...        f         f       d\n",
              "3                p          0.74         x  ...        f         f       d\n",
              "4                p          9.60         x  ...        f         f       d\n",
              "\n",
              "[5 rows x 13 columns]"
            ]
          },
          "metadata": {},
          "execution_count": 111
        }
      ],
      "source": [
        "train_org_df[input_cols].head()"
      ]
    },
    {
      "cell_type": "code",
      "execution_count": 112,
      "metadata": {
        "colab": {
          "base_uri": "https://localhost:8080/"
        },
        "id": "we0F6bbzkBY3",
        "outputId": "3eb8f480-3215-45c8-aff4-cc81bb46f2e7"
      },
      "outputs": [
        {
          "output_type": "stream",
          "name": "stdout",
          "text": [
            "<class 'pandas.core.frame.DataFrame'>\n",
            "RangeIndex: 42748 entries, 0 to 42747\n",
            "Data columns (total 13 columns):\n",
            " #   Column                Non-Null Count  Dtype  \n",
            "---  ------                --------------  -----  \n",
            " 0   edible-poisonous      42748 non-null  object \n",
            " 1   cap-diameter          42748 non-null  float64\n",
            " 2   cap-shape             42748 non-null  object \n",
            " 3   cap-color             42748 non-null  object \n",
            " 4   does-bruise-or-bleed  42748 non-null  object \n",
            " 5   gill-attachment       42748 non-null  object \n",
            " 6   gill-color            42748 non-null  object \n",
            " 7   stem-height           42748 non-null  float64\n",
            " 8   stem-width            42748 non-null  float64\n",
            " 9   stem-color            42748 non-null  object \n",
            " 10  has-ring              42748 non-null  object \n",
            " 11  ring-type             42748 non-null  object \n",
            " 12  habitat               42748 non-null  object \n",
            "dtypes: float64(3), object(10)\n",
            "memory usage: 4.2+ MB\n"
          ]
        }
      ],
      "source": [
        "train_org_df[input_cols].info()"
      ]
    },
    {
      "cell_type": "code",
      "execution_count": 113,
      "metadata": {
        "colab": {
          "base_uri": "https://localhost:8080/"
        },
        "id": "dPReaWaJj8Ln",
        "outputId": "69ce3517-55e1-42c4-c744-8a2489766f43"
      },
      "outputs": [
        {
          "output_type": "execute_result",
          "data": {
            "text/plain": [
              "(['cap-diameter', 'stem-height', 'stem-width'],\n",
              " ['edible-poisonous',\n",
              "  'cap-shape',\n",
              "  'cap-color',\n",
              "  'does-bruise-or-bleed',\n",
              "  'gill-attachment',\n",
              "  'gill-color',\n",
              "  'stem-color',\n",
              "  'has-ring',\n",
              "  'ring-type',\n",
              "  'habitat'])"
            ]
          },
          "metadata": {},
          "execution_count": 113
        }
      ],
      "source": [
        "numeric_cols = train_org_df[input_cols].select_dtypes(include=np.number).columns.tolist()\n",
        "categorical_cols = train_org_df[input_cols].select_dtypes('object').columns.tolist()\n",
        "numeric_cols, categorical_cols"
      ]
    },
    {
      "cell_type": "code",
      "execution_count": 114,
      "metadata": {
        "colab": {
          "base_uri": "https://localhost:8080/"
        },
        "id": "DCO3wJgmjTCz",
        "outputId": "9596d369-f24f-4901-d678-f0646e0e7a2d"
      },
      "outputs": [
        {
          "output_type": "execute_result",
          "data": {
            "text/plain": [
              "('numeric_cols: 3', 'categorical_cols: 10')"
            ]
          },
          "metadata": {},
          "execution_count": 114
        }
      ],
      "source": [
        "'numeric_cols: '+str(len(numeric_cols)), \"categorical_cols: \" + str(len(categorical_cols))"
      ]
    },
    {
      "cell_type": "markdown",
      "metadata": {
        "id": "0hyecPrdjWGk"
      },
      "source": [
        "### Scaling Numeric Features"
      ]
    },
    {
      "cell_type": "code",
      "execution_count": 115,
      "metadata": {
        "id": "P1KndBn7jS_S"
      },
      "outputs": [],
      "source": [
        "from sklearn.preprocessing import MinMaxScaler"
      ]
    },
    {
      "cell_type": "code",
      "execution_count": 116,
      "metadata": {
        "colab": {
          "base_uri": "https://localhost:8080/",
          "height": 112
        },
        "id": "5wB87KIIjS75",
        "outputId": "9744a691-7ebf-4a11-c34f-cff2d5b85c17"
      },
      "outputs": [
        {
          "output_type": "execute_result",
          "data": {
            "text/html": [
              "\n",
              "  <div id=\"df-782b59de-e7b2-4f22-82d7-f0183f1f876e\">\n",
              "    <div class=\"colab-df-container\">\n",
              "      <div>\n",
              "<style scoped>\n",
              "    .dataframe tbody tr th:only-of-type {\n",
              "        vertical-align: middle;\n",
              "    }\n",
              "\n",
              "    .dataframe tbody tr th {\n",
              "        vertical-align: top;\n",
              "    }\n",
              "\n",
              "    .dataframe thead th {\n",
              "        text-align: right;\n",
              "    }\n",
              "</style>\n",
              "<table border=\"1\" class=\"dataframe\">\n",
              "  <thead>\n",
              "    <tr style=\"text-align: right;\">\n",
              "      <th></th>\n",
              "      <th>cap-diameter</th>\n",
              "      <th>stem-height</th>\n",
              "      <th>stem-width</th>\n",
              "    </tr>\n",
              "  </thead>\n",
              "  <tbody>\n",
              "    <tr>\n",
              "      <th>min</th>\n",
              "      <td>0.38</td>\n",
              "      <td>0.00</td>\n",
              "      <td>0.000</td>\n",
              "    </tr>\n",
              "    <tr>\n",
              "      <th>max</th>\n",
              "      <td>62.34</td>\n",
              "      <td>33.92</td>\n",
              "      <td>10.391</td>\n",
              "    </tr>\n",
              "  </tbody>\n",
              "</table>\n",
              "</div>\n",
              "      <button class=\"colab-df-convert\" onclick=\"convertToInteractive('df-782b59de-e7b2-4f22-82d7-f0183f1f876e')\"\n",
              "              title=\"Convert this dataframe to an interactive table.\"\n",
              "              style=\"display:none;\">\n",
              "        \n",
              "  <svg xmlns=\"http://www.w3.org/2000/svg\" height=\"24px\"viewBox=\"0 0 24 24\"\n",
              "       width=\"24px\">\n",
              "    <path d=\"M0 0h24v24H0V0z\" fill=\"none\"/>\n",
              "    <path d=\"M18.56 5.44l.94 2.06.94-2.06 2.06-.94-2.06-.94-.94-2.06-.94 2.06-2.06.94zm-11 1L8.5 8.5l.94-2.06 2.06-.94-2.06-.94L8.5 2.5l-.94 2.06-2.06.94zm10 10l.94 2.06.94-2.06 2.06-.94-2.06-.94-.94-2.06-.94 2.06-2.06.94z\"/><path d=\"M17.41 7.96l-1.37-1.37c-.4-.4-.92-.59-1.43-.59-.52 0-1.04.2-1.43.59L10.3 9.45l-7.72 7.72c-.78.78-.78 2.05 0 2.83L4 21.41c.39.39.9.59 1.41.59.51 0 1.02-.2 1.41-.59l7.78-7.78 2.81-2.81c.8-.78.8-2.07 0-2.86zM5.41 20L4 18.59l7.72-7.72 1.47 1.35L5.41 20z\"/>\n",
              "  </svg>\n",
              "      </button>\n",
              "      \n",
              "  <style>\n",
              "    .colab-df-container {\n",
              "      display:flex;\n",
              "      flex-wrap:wrap;\n",
              "      gap: 12px;\n",
              "    }\n",
              "\n",
              "    .colab-df-convert {\n",
              "      background-color: #E8F0FE;\n",
              "      border: none;\n",
              "      border-radius: 50%;\n",
              "      cursor: pointer;\n",
              "      display: none;\n",
              "      fill: #1967D2;\n",
              "      height: 32px;\n",
              "      padding: 0 0 0 0;\n",
              "      width: 32px;\n",
              "    }\n",
              "\n",
              "    .colab-df-convert:hover {\n",
              "      background-color: #E2EBFA;\n",
              "      box-shadow: 0px 1px 2px rgba(60, 64, 67, 0.3), 0px 1px 3px 1px rgba(60, 64, 67, 0.15);\n",
              "      fill: #174EA6;\n",
              "    }\n",
              "\n",
              "    [theme=dark] .colab-df-convert {\n",
              "      background-color: #3B4455;\n",
              "      fill: #D2E3FC;\n",
              "    }\n",
              "\n",
              "    [theme=dark] .colab-df-convert:hover {\n",
              "      background-color: #434B5C;\n",
              "      box-shadow: 0px 1px 3px 1px rgba(0, 0, 0, 0.15);\n",
              "      filter: drop-shadow(0px 1px 2px rgba(0, 0, 0, 0.3));\n",
              "      fill: #FFFFFF;\n",
              "    }\n",
              "  </style>\n",
              "\n",
              "      <script>\n",
              "        const buttonEl =\n",
              "          document.querySelector('#df-782b59de-e7b2-4f22-82d7-f0183f1f876e button.colab-df-convert');\n",
              "        buttonEl.style.display =\n",
              "          google.colab.kernel.accessAllowed ? 'block' : 'none';\n",
              "\n",
              "        async function convertToInteractive(key) {\n",
              "          const element = document.querySelector('#df-782b59de-e7b2-4f22-82d7-f0183f1f876e');\n",
              "          const dataTable =\n",
              "            await google.colab.kernel.invokeFunction('convertToInteractive',\n",
              "                                                     [key], {});\n",
              "          if (!dataTable) return;\n",
              "\n",
              "          const docLinkHtml = 'Like what you see? Visit the ' +\n",
              "            '<a target=\"_blank\" href=https://colab.research.google.com/notebooks/data_table.ipynb>data table notebook</a>'\n",
              "            + ' to learn more about interactive tables.';\n",
              "          element.innerHTML = '';\n",
              "          dataTable['output_type'] = 'display_data';\n",
              "          await google.colab.output.renderOutput(dataTable, element);\n",
              "          const docLink = document.createElement('div');\n",
              "          docLink.innerHTML = docLinkHtml;\n",
              "          element.appendChild(docLink);\n",
              "        }\n",
              "      </script>\n",
              "    </div>\n",
              "  </div>\n",
              "  "
            ],
            "text/plain": [
              "     cap-diameter  stem-height  stem-width\n",
              "min          0.38         0.00       0.000\n",
              "max         62.34        33.92      10.391"
            ]
          },
          "metadata": {},
          "execution_count": 116
        }
      ],
      "source": [
        "scaler = MinMaxScaler()\n",
        "scaler.fit(train_org_df[numeric_cols])\n",
        "train_org_df[numeric_cols].describe().loc[['min','max'],:]"
      ]
    },
    {
      "cell_type": "code",
      "execution_count": 117,
      "metadata": {
        "colab": {
          "base_uri": "https://localhost:8080/",
          "height": 112
        },
        "id": "pYfH0GYAlGcv",
        "outputId": "cbcef77e-43e9-4ddb-9038-9cdb46a927e1"
      },
      "outputs": [
        {
          "output_type": "execute_result",
          "data": {
            "text/html": [
              "\n",
              "  <div id=\"df-dfc97af2-f873-4e7f-9154-12cd7a0c4b94\">\n",
              "    <div class=\"colab-df-container\">\n",
              "      <div>\n",
              "<style scoped>\n",
              "    .dataframe tbody tr th:only-of-type {\n",
              "        vertical-align: middle;\n",
              "    }\n",
              "\n",
              "    .dataframe tbody tr th {\n",
              "        vertical-align: top;\n",
              "    }\n",
              "\n",
              "    .dataframe thead th {\n",
              "        text-align: right;\n",
              "    }\n",
              "</style>\n",
              "<table border=\"1\" class=\"dataframe\">\n",
              "  <thead>\n",
              "    <tr style=\"text-align: right;\">\n",
              "      <th></th>\n",
              "      <th>cap-diameter</th>\n",
              "      <th>stem-height</th>\n",
              "      <th>stem-width</th>\n",
              "    </tr>\n",
              "  </thead>\n",
              "  <tbody>\n",
              "    <tr>\n",
              "      <th>min</th>\n",
              "      <td>0.0</td>\n",
              "      <td>0.0</td>\n",
              "      <td>0.0</td>\n",
              "    </tr>\n",
              "    <tr>\n",
              "      <th>max</th>\n",
              "      <td>1.0</td>\n",
              "      <td>1.0</td>\n",
              "      <td>1.0</td>\n",
              "    </tr>\n",
              "  </tbody>\n",
              "</table>\n",
              "</div>\n",
              "      <button class=\"colab-df-convert\" onclick=\"convertToInteractive('df-dfc97af2-f873-4e7f-9154-12cd7a0c4b94')\"\n",
              "              title=\"Convert this dataframe to an interactive table.\"\n",
              "              style=\"display:none;\">\n",
              "        \n",
              "  <svg xmlns=\"http://www.w3.org/2000/svg\" height=\"24px\"viewBox=\"0 0 24 24\"\n",
              "       width=\"24px\">\n",
              "    <path d=\"M0 0h24v24H0V0z\" fill=\"none\"/>\n",
              "    <path d=\"M18.56 5.44l.94 2.06.94-2.06 2.06-.94-2.06-.94-.94-2.06-.94 2.06-2.06.94zm-11 1L8.5 8.5l.94-2.06 2.06-.94-2.06-.94L8.5 2.5l-.94 2.06-2.06.94zm10 10l.94 2.06.94-2.06 2.06-.94-2.06-.94-.94-2.06-.94 2.06-2.06.94z\"/><path d=\"M17.41 7.96l-1.37-1.37c-.4-.4-.92-.59-1.43-.59-.52 0-1.04.2-1.43.59L10.3 9.45l-7.72 7.72c-.78.78-.78 2.05 0 2.83L4 21.41c.39.39.9.59 1.41.59.51 0 1.02-.2 1.41-.59l7.78-7.78 2.81-2.81c.8-.78.8-2.07 0-2.86zM5.41 20L4 18.59l7.72-7.72 1.47 1.35L5.41 20z\"/>\n",
              "  </svg>\n",
              "      </button>\n",
              "      \n",
              "  <style>\n",
              "    .colab-df-container {\n",
              "      display:flex;\n",
              "      flex-wrap:wrap;\n",
              "      gap: 12px;\n",
              "    }\n",
              "\n",
              "    .colab-df-convert {\n",
              "      background-color: #E8F0FE;\n",
              "      border: none;\n",
              "      border-radius: 50%;\n",
              "      cursor: pointer;\n",
              "      display: none;\n",
              "      fill: #1967D2;\n",
              "      height: 32px;\n",
              "      padding: 0 0 0 0;\n",
              "      width: 32px;\n",
              "    }\n",
              "\n",
              "    .colab-df-convert:hover {\n",
              "      background-color: #E2EBFA;\n",
              "      box-shadow: 0px 1px 2px rgba(60, 64, 67, 0.3), 0px 1px 3px 1px rgba(60, 64, 67, 0.15);\n",
              "      fill: #174EA6;\n",
              "    }\n",
              "\n",
              "    [theme=dark] .colab-df-convert {\n",
              "      background-color: #3B4455;\n",
              "      fill: #D2E3FC;\n",
              "    }\n",
              "\n",
              "    [theme=dark] .colab-df-convert:hover {\n",
              "      background-color: #434B5C;\n",
              "      box-shadow: 0px 1px 3px 1px rgba(0, 0, 0, 0.15);\n",
              "      filter: drop-shadow(0px 1px 2px rgba(0, 0, 0, 0.3));\n",
              "      fill: #FFFFFF;\n",
              "    }\n",
              "  </style>\n",
              "\n",
              "      <script>\n",
              "        const buttonEl =\n",
              "          document.querySelector('#df-dfc97af2-f873-4e7f-9154-12cd7a0c4b94 button.colab-df-convert');\n",
              "        buttonEl.style.display =\n",
              "          google.colab.kernel.accessAllowed ? 'block' : 'none';\n",
              "\n",
              "        async function convertToInteractive(key) {\n",
              "          const element = document.querySelector('#df-dfc97af2-f873-4e7f-9154-12cd7a0c4b94');\n",
              "          const dataTable =\n",
              "            await google.colab.kernel.invokeFunction('convertToInteractive',\n",
              "                                                     [key], {});\n",
              "          if (!dataTable) return;\n",
              "\n",
              "          const docLinkHtml = 'Like what you see? Visit the ' +\n",
              "            '<a target=\"_blank\" href=https://colab.research.google.com/notebooks/data_table.ipynb>data table notebook</a>'\n",
              "            + ' to learn more about interactive tables.';\n",
              "          element.innerHTML = '';\n",
              "          dataTable['output_type'] = 'display_data';\n",
              "          await google.colab.output.renderOutput(dataTable, element);\n",
              "          const docLink = document.createElement('div');\n",
              "          docLink.innerHTML = docLinkHtml;\n",
              "          element.appendChild(docLink);\n",
              "        }\n",
              "      </script>\n",
              "    </div>\n",
              "  </div>\n",
              "  "
            ],
            "text/plain": [
              "     cap-diameter  stem-height  stem-width\n",
              "min           0.0          0.0         0.0\n",
              "max           1.0          1.0         1.0"
            ]
          },
          "metadata": {},
          "execution_count": 117
        }
      ],
      "source": [
        "train_org_df[numeric_cols] = scaler.transform(train_org_df[numeric_cols])\n",
        "train_org_df[numeric_cols].describe().loc[['min','max'],:]"
      ]
    },
    {
      "cell_type": "markdown",
      "metadata": {
        "id": "2fz-W2HkjZbi"
      },
      "source": [
        "### Encoding Categorical Data"
      ]
    },
    {
      "cell_type": "code",
      "execution_count": 118,
      "metadata": {
        "colab": {
          "base_uri": "https://localhost:8080/"
        },
        "id": "fuOOyPhBlMei",
        "outputId": "2cb3d556-3e5d-41a8-fac6-c1b464e6b9fe"
      },
      "outputs": [
        {
          "output_type": "execute_result",
          "data": {
            "text/plain": [
              "edible-poisonous         2\n",
              "cap-shape                7\n",
              "cap-color               12\n",
              "does-bruise-or-bleed     2\n",
              "gill-attachment          7\n",
              "gill-color              12\n",
              "stem-color              13\n",
              "has-ring                 2\n",
              "ring-type                8\n",
              "habitat                  8\n",
              "dtype: int64"
            ]
          },
          "metadata": {},
          "execution_count": 118
        }
      ],
      "source": [
        "train_org_df[categorical_cols].nunique()"
      ]
    },
    {
      "cell_type": "code",
      "execution_count": 119,
      "metadata": {
        "id": "2-imSBMmlMa8"
      },
      "outputs": [],
      "source": [
        "from sklearn.preprocessing import OneHotEncoder"
      ]
    },
    {
      "cell_type": "code",
      "execution_count": 120,
      "metadata": {
        "colab": {
          "base_uri": "https://localhost:8080/"
        },
        "id": "tP45jZ7HlMYU",
        "outputId": "96d96bd9-2f91-4454-b3ed-88bae515e674"
      },
      "outputs": [
        {
          "output_type": "execute_result",
          "data": {
            "text/plain": [
              "OneHotEncoder(handle_unknown='ignore', sparse=False)"
            ]
          },
          "metadata": {},
          "execution_count": 120
        }
      ],
      "source": [
        "encoder = OneHotEncoder(sparse=False, handle_unknown='ignore')\n",
        "encoder.fit(train_org_df[categorical_cols])"
      ]
    },
    {
      "cell_type": "code",
      "execution_count": 121,
      "metadata": {
        "colab": {
          "base_uri": "https://localhost:8080/"
        },
        "id": "M1Z3oUzXlMVa",
        "outputId": "7eba166f-3203-4a1a-c93a-403a55d9bbf6"
      },
      "outputs": [
        {
          "output_type": "stream",
          "name": "stdout",
          "text": [
            "['edible-poisonous_e', 'edible-poisonous_p', 'cap-shape_b', 'cap-shape_c', 'cap-shape_f', 'cap-shape_o', 'cap-shape_p', 'cap-shape_s', 'cap-shape_x', 'cap-color_b', 'cap-color_e', 'cap-color_g', 'cap-color_k', 'cap-color_l', 'cap-color_n', 'cap-color_o', 'cap-color_p', 'cap-color_r', 'cap-color_u', 'cap-color_w', 'cap-color_y', 'does-bruise-or-bleed_f', 'does-bruise-or-bleed_t', 'gill-attachment_a', 'gill-attachment_d', 'gill-attachment_e', 'gill-attachment_f', 'gill-attachment_p', 'gill-attachment_s', 'gill-attachment_x', 'gill-color_b', 'gill-color_e', 'gill-color_f', 'gill-color_g', 'gill-color_k', 'gill-color_n', 'gill-color_o', 'gill-color_p', 'gill-color_r', 'gill-color_u', 'gill-color_w', 'gill-color_y', 'stem-color_b', 'stem-color_e', 'stem-color_f', 'stem-color_g', 'stem-color_k', 'stem-color_l', 'stem-color_n', 'stem-color_o', 'stem-color_p', 'stem-color_r', 'stem-color_u', 'stem-color_w', 'stem-color_y', 'has-ring_f', 'has-ring_t', 'ring-type_e', 'ring-type_f', 'ring-type_g', 'ring-type_l', 'ring-type_m', 'ring-type_p', 'ring-type_r', 'ring-type_z', 'habitat_d', 'habitat_g', 'habitat_h', 'habitat_l', 'habitat_m', 'habitat_p', 'habitat_u', 'habitat_w'] 73\n"
          ]
        }
      ],
      "source": [
        "encoded_cols = list(encoder.get_feature_names_out(categorical_cols))\n",
        "print(encoded_cols,len(encoded_cols))"
      ]
    },
    {
      "cell_type": "code",
      "execution_count": 122,
      "metadata": {
        "id": "eTRG96hjlTkC"
      },
      "outputs": [],
      "source": [
        "train_org_df[encoded_cols] = encoder.transform(train_org_df[categorical_cols])"
      ]
    },
    {
      "cell_type": "code",
      "execution_count": 123,
      "metadata": {
        "colab": {
          "base_uri": "https://localhost:8080/"
        },
        "id": "P1Kr5UiwlTgq",
        "outputId": "4a066c0b-9108-479d-9c0a-aea30e906ef0"
      },
      "outputs": [
        {
          "output_type": "execute_result",
          "data": {
            "text/plain": [
              "(42748, 87)"
            ]
          },
          "metadata": {},
          "execution_count": 123
        }
      ],
      "source": [
        "train_org_df.shape"
      ]
    },
    {
      "cell_type": "markdown",
      "metadata": {
        "id": "jQ--ufZQgUOb"
      },
      "source": [
        "# Splting the Dataset"
      ]
    },
    {
      "cell_type": "code",
      "execution_count": 124,
      "metadata": {
        "id": "KJQQNUIDjTrj"
      },
      "outputs": [],
      "source": [
        "from sklearn.model_selection import train_test_split"
      ]
    },
    {
      "cell_type": "code",
      "execution_count": 125,
      "metadata": {
        "id": "TKqTR4UCljCi"
      },
      "outputs": [],
      "source": [
        "train_df, val_df = train_test_split(train_org_df, test_size=0.25, random_state=42)"
      ]
    },
    {
      "cell_type": "code",
      "execution_count": 126,
      "metadata": {
        "colab": {
          "base_uri": "https://localhost:8080/"
        },
        "id": "9VlsanA_gaGD",
        "outputId": "5789c1c1-9cc3-47b4-be89-40ff3182c525"
      },
      "outputs": [
        {
          "output_type": "stream",
          "name": "stdout",
          "text": [
            "train_df.shape : (32061, 87)\n",
            "val_df.shape : (10687, 87)\n"
          ]
        }
      ],
      "source": [
        "print('train_df.shape :', train_df.shape)\n",
        "print('val_df.shape :', val_df.shape)"
      ]
    },
    {
      "cell_type": "markdown",
      "metadata": {
        "id": "c3GaXemkgcBr"
      },
      "source": [
        "# Training the Model"
      ]
    },
    {
      "cell_type": "code",
      "execution_count": 127,
      "metadata": {
        "colab": {
          "base_uri": "https://localhost:8080/"
        },
        "id": "hJTS2g-KgclQ",
        "outputId": "243dd93f-c7c4-46a2-c75a-a817772cc68e"
      },
      "outputs": [
        {
          "output_type": "execute_result",
          "data": {
            "text/plain": [
              "(76, 'season')"
            ]
          },
          "metadata": {},
          "execution_count": 127
        }
      ],
      "source": [
        "len(numeric_cols + encoded_cols),target_col"
      ]
    },
    {
      "cell_type": "code",
      "execution_count": 128,
      "metadata": {
        "id": "nkIWtptqlnnT"
      },
      "outputs": [],
      "source": [
        "train_inputs = train_df[numeric_cols + encoded_cols].copy()\n",
        "train_targets = train_df[target_col].copy()"
      ]
    },
    {
      "cell_type": "code",
      "execution_count": 129,
      "metadata": {
        "colab": {
          "base_uri": "https://localhost:8080/"
        },
        "id": "Q2TMAvFDmHm8",
        "outputId": "ddec33bf-79d5-47d2-fdae-0ef5a6cc90aa"
      },
      "outputs": [
        {
          "output_type": "execute_result",
          "data": {
            "text/plain": [
              "11"
            ]
          },
          "metadata": {},
          "execution_count": 129
        }
      ],
      "source": [
        "diff_cols = [cols for cols in train_df.columns if cols not in train_inputs]\n",
        "len(diff_cols) # original categorical columsna are removed from the columsn ist"
      ]
    },
    {
      "cell_type": "code",
      "execution_count": 130,
      "metadata": {
        "colab": {
          "base_uri": "https://localhost:8080/"
        },
        "id": "XO5JWiDwlnjr",
        "outputId": "4bcb1bce-2848-4372-96e8-3860141684a3"
      },
      "outputs": [
        {
          "output_type": "execute_result",
          "data": {
            "text/plain": [
              "((32061, 76), (32061,))"
            ]
          },
          "metadata": {},
          "execution_count": 130
        }
      ],
      "source": [
        "train_inputs.shape, train_targets.shape"
      ]
    },
    {
      "cell_type": "code",
      "execution_count": 131,
      "metadata": {
        "id": "oceiqQNwlng_"
      },
      "outputs": [],
      "source": [
        "from sklearn.model_selection import cross_val_score\n",
        "from sklearn.model_selection import RepeatedStratifiedKFold\n",
        "from sklearn.linear_model import LogisticRegression\n",
        "from sklearn.ensemble import RandomForestClassifier\n",
        "from xgboost import XGBClassifier"
      ]
    },
    {
      "cell_type": "code",
      "execution_count": 132,
      "metadata": {
        "id": "R3Fd2htFmvtT"
      },
      "outputs": [],
      "source": [
        "#model = LogisticRegression(multi_class='multinomial', solver='lbfgs')\n",
        "#model = LogisticRegression(multi_class='multinomial', solver='lbfgs',penalty=\"l2\",C=0.1)\n",
        "\n",
        "model = RandomForestClassifier(n_jobs=-1, random_state=42 )\n",
        "\n",
        "#model = XGBClassifier(n_jobs=-1, random_state=42)"
      ]
    },
    {
      "cell_type": "code",
      "execution_count": 133,
      "metadata": {
        "id": "pdlbpZZCm3tD"
      },
      "outputs": [],
      "source": [
        "cv = RepeatedStratifiedKFold(n_splits=10, n_repeats=3, random_state=1)"
      ]
    },
    {
      "cell_type": "code",
      "execution_count": 134,
      "metadata": {
        "id": "ViQfExDmnHht"
      },
      "outputs": [],
      "source": [
        "X, y = train_inputs, train_targets"
      ]
    },
    {
      "cell_type": "code",
      "execution_count": 135,
      "metadata": {
        "id": "tJF-lscgm9nz"
      },
      "outputs": [],
      "source": [
        "n_scores = cross_val_score(model, X, y, scoring='accuracy', cv=cv, n_jobs=-1)"
      ]
    },
    {
      "cell_type": "code",
      "execution_count": 136,
      "metadata": {
        "id": "3jLq1Wdcm_Ut"
      },
      "outputs": [],
      "source": [
        "from numpy import mean, std"
      ]
    },
    {
      "cell_type": "code",
      "execution_count": 137,
      "metadata": {
        "colab": {
          "base_uri": "https://localhost:8080/"
        },
        "id": "_rBSzlvRnSaX",
        "outputId": "baddcd49-f951-454c-fedc-eca4c8aeeb43"
      },
      "outputs": [
        {
          "output_type": "stream",
          "name": "stdout",
          "text": [
            "Mean Accuracy: 0.516 (0.009)\n"
          ]
        }
      ],
      "source": [
        "print('Mean Accuracy: %.3f (%.3f)' % (mean(n_scores), std(n_scores)))"
      ]
    },
    {
      "cell_type": "code",
      "execution_count": 138,
      "metadata": {
        "id": "DEnz8OoinXDK"
      },
      "outputs": [],
      "source": [
        "# #jovian.log_metrics(C=\"0.01\",acc = \"0.507\")\n",
        "# #jovian.log_metrics(C=\"0.0001\",acc = \"0.4909\")\n",
        "# #jovian.log_metrics(C=\"0.1\",acc = \"0.505\")\n",
        "\n",
        "# jovian.log_metrics(model=\"RandomforestClassifier\",acc = \"0.516\")\n",
        "\n",
        "# jovian.log_metrics(model=\"XGBoostClassifier\",acc = \"0.516\")\n"
      ]
    },
    {
      "cell_type": "code",
      "execution_count": 138,
      "metadata": {
        "id": "Q7kiH_QoxiGU"
      },
      "outputs": [],
      "source": [
        ""
      ]
    },
    {
      "cell_type": "markdown",
      "metadata": {
        "id": "cR04Ua_DnYUP"
      },
      "source": [
        "# Making Prediction and Evaluating the model"
      ]
    },
    {
      "cell_type": "code",
      "execution_count": 139,
      "metadata": {
        "id": "8wRRU9FXncCu"
      },
      "outputs": [],
      "source": [
        "X_train = train_inputs[numeric_cols + encoded_cols]"
      ]
    },
    {
      "cell_type": "code",
      "execution_count": 140,
      "metadata": {
        "id": "Uxus23fhnfjD"
      },
      "outputs": [],
      "source": [
        "from sklearn.utils import class_weight\n",
        "classes_weights = class_weight.compute_sample_weight(class_weight='balanced',y=y)"
      ]
    },
    {
      "cell_type": "code",
      "execution_count": 141,
      "metadata": {
        "colab": {
          "base_uri": "https://localhost:8080/"
        },
        "id": "RtADNUMTnhLN",
        "outputId": "4e45b99e-ddc0-4307-ad88-46a8e0465d3b"
      },
      "outputs": [
        {
          "output_type": "stream",
          "name": "stdout",
          "text": [
            "CPU times: user 4 µs, sys: 0 ns, total: 4 µs\n",
            "Wall time: 21.9 µs\n"
          ]
        },
        {
          "output_type": "execute_result",
          "data": {
            "text/plain": [
              "RandomForestClassifier(n_jobs=-1, random_state=42)"
            ]
          },
          "metadata": {},
          "execution_count": 141
        }
      ],
      "source": [
        "%time\n",
        "model.fit(X_train, y,sample_weight=classes_weights)"
      ]
    },
    {
      "cell_type": "code",
      "execution_count": 142,
      "metadata": {
        "id": "QZuncoKHnjEM"
      },
      "outputs": [],
      "source": [
        "train_preds = model.predict(X_train)"
      ]
    },
    {
      "cell_type": "code",
      "execution_count": 143,
      "metadata": {
        "id": "fqdUgdHNnkmE"
      },
      "outputs": [],
      "source": [
        "from sklearn.metrics import f1_score"
      ]
    },
    {
      "cell_type": "code",
      "execution_count": 144,
      "metadata": {
        "colab": {
          "base_uri": "https://localhost:8080/"
        },
        "id": "pk2uEyPWnmG8",
        "outputId": "9e2c3e4c-9412-414f-acf2-f51b5e67742b"
      },
      "outputs": [
        {
          "output_type": "execute_result",
          "data": {
            "text/plain": [
              "99.40682705699024"
            ]
          },
          "metadata": {},
          "execution_count": 144
        }
      ],
      "source": [
        "score_train = 100 * f1_score(train_targets, train_preds, average='macro')\n",
        "score_train"
      ]
    },
    {
      "cell_type": "code",
      "execution_count": 145,
      "metadata": {
        "id": "ltSPLd5fou7A"
      },
      "outputs": [],
      "source": [
        "X_val = val_df[numeric_cols + encoded_cols].copy()"
      ]
    },
    {
      "cell_type": "code",
      "execution_count": 146,
      "metadata": {
        "id": "zq4nuIj5oyMD"
      },
      "outputs": [],
      "source": [
        "val_preds = model.predict(X_val)"
      ]
    },
    {
      "cell_type": "code",
      "execution_count": 147,
      "metadata": {
        "id": "spWAE9Wko0Rk"
      },
      "outputs": [],
      "source": [
        "val_targets = val_df[target_col].copy()"
      ]
    },
    {
      "cell_type": "code",
      "execution_count": 148,
      "metadata": {
        "colab": {
          "base_uri": "https://localhost:8080/"
        },
        "id": "8utEsYxFo3nY",
        "outputId": "2b8101fe-41ca-4209-f92b-51365659865a"
      },
      "outputs": [
        {
          "output_type": "execute_result",
          "data": {
            "text/plain": [
              "((10687, 76), (10687,), (10687,))"
            ]
          },
          "metadata": {},
          "execution_count": 148
        }
      ],
      "source": [
        "X_val.shape,  val_preds.shape, val_targets.shape"
      ]
    },
    {
      "cell_type": "code",
      "execution_count": 149,
      "metadata": {
        "colab": {
          "base_uri": "https://localhost:8080/"
        },
        "id": "aY5euUMdo4_I",
        "outputId": "a8b23a1e-24bc-4bbb-b758-ed4969face37"
      },
      "outputs": [
        {
          "output_type": "execute_result",
          "data": {
            "text/plain": [
              "45.45675351983568"
            ]
          },
          "metadata": {},
          "execution_count": 149
        }
      ],
      "source": [
        "score_val = 100 * f1_score(val_targets, val_preds, average='macro')\n",
        "score_val"
      ]
    },
    {
      "cell_type": "code",
      "execution_count": null,
      "metadata": {
        "colab": {
          "base_uri": "https://localhost:8080/",
          "height": 111
        },
        "id": "5vOqB7fio7aI",
        "outputId": "f4769c50-b120-49f1-9d18-8ccd2bd89daa"
      },
      "outputs": [
        {
          "name": "stdout",
          "output_type": "stream",
          "text": [
            "[jovian] Detected Colab notebook...\u001b[0m\n",
            "[jovian] Uploading colab notebook to Jovian...\u001b[0m\n",
            "[jovian] Attaching records (metrics, hyperparameters, dataset etc.)\u001b[0m\n",
            "Committed successfully! https://jovian.ai/pknayak0707-job/machinehack-ode-to-code-tredence\n"
          ]
        },
        {
          "data": {
            "application/vnd.google.colaboratory.intrinsic+json": {
              "type": "string"
            },
            "text/plain": [
              "'https://jovian.ai/pknayak0707-job/machinehack-ode-to-code-tredence'"
            ]
          },
          "execution_count": 111,
          "metadata": {},
          "output_type": "execute_result"
        }
      ],
      "source": [
        "jovian.commit()"
      ]
    },
    {
      "cell_type": "markdown",
      "metadata": {
        "id": "gHVcl4B6pAEo"
      },
      "source": [
        "# Predicting the values for the Test values"
      ]
    },
    {
      "cell_type": "code",
      "execution_count": 150,
      "metadata": {
        "colab": {
          "base_uri": "https://localhost:8080/"
        },
        "id": "JWxgM-N9o9pJ",
        "outputId": "20e4acb3-8896-485d-f5ce-409b0baeaf96"
      },
      "outputs": [
        {
          "output_type": "execute_result",
          "data": {
            "text/plain": [
              "(['season'],\n",
              " ['edible-poisonous',\n",
              "  'cap-diameter',\n",
              "  'cap-shape',\n",
              "  'cap-color',\n",
              "  'does-bruise-or-bleed',\n",
              "  'gill-attachment',\n",
              "  'gill-color',\n",
              "  'stem-height',\n",
              "  'stem-width',\n",
              "  'stem-color',\n",
              "  'has-ring',\n",
              "  'ring-type',\n",
              "  'habitat'],\n",
              " 'season')"
            ]
          },
          "metadata": {},
          "execution_count": 150
        }
      ],
      "source": [
        "excluded_cols,input_cols, target_col"
      ]
    },
    {
      "cell_type": "markdown",
      "metadata": {
        "id": "b9VMDJUUpHLj"
      },
      "source": [
        "## Scaling the Data"
      ]
    },
    {
      "cell_type": "code",
      "execution_count": 151,
      "metadata": {
        "id": "28CN61QDpC1M"
      },
      "outputs": [],
      "source": [
        "test_org_df [numeric_cols] = scaler.transform(test_org_df [numeric_cols])"
      ]
    },
    {
      "cell_type": "code",
      "execution_count": 152,
      "metadata": {
        "colab": {
          "base_uri": "https://localhost:8080/",
          "height": 300
        },
        "id": "IAsWnW9cpGBZ",
        "outputId": "a5402779-fa44-495e-c635-f23fc017f7e1"
      },
      "outputs": [
        {
          "output_type": "execute_result",
          "data": {
            "text/html": [
              "\n",
              "  <div id=\"df-2ddc039b-86a0-41d8-8cb4-336327c5f9c0\">\n",
              "    <div class=\"colab-df-container\">\n",
              "      <div>\n",
              "<style scoped>\n",
              "    .dataframe tbody tr th:only-of-type {\n",
              "        vertical-align: middle;\n",
              "    }\n",
              "\n",
              "    .dataframe tbody tr th {\n",
              "        vertical-align: top;\n",
              "    }\n",
              "\n",
              "    .dataframe thead th {\n",
              "        text-align: right;\n",
              "    }\n",
              "</style>\n",
              "<table border=\"1\" class=\"dataframe\">\n",
              "  <thead>\n",
              "    <tr style=\"text-align: right;\">\n",
              "      <th></th>\n",
              "      <th>cap-diameter</th>\n",
              "      <th>stem-height</th>\n",
              "      <th>stem-width</th>\n",
              "    </tr>\n",
              "  </thead>\n",
              "  <tbody>\n",
              "    <tr>\n",
              "      <th>count</th>\n",
              "      <td>18321.000000</td>\n",
              "      <td>18321.000000</td>\n",
              "      <td>18321.000000</td>\n",
              "    </tr>\n",
              "    <tr>\n",
              "      <th>mean</th>\n",
              "      <td>0.103370</td>\n",
              "      <td>0.194106</td>\n",
              "      <td>1.172693</td>\n",
              "    </tr>\n",
              "    <tr>\n",
              "      <th>std</th>\n",
              "      <td>0.087225</td>\n",
              "      <td>0.099467</td>\n",
              "      <td>0.960670</td>\n",
              "    </tr>\n",
              "    <tr>\n",
              "      <th>min</th>\n",
              "      <td>0.000968</td>\n",
              "      <td>0.000000</td>\n",
              "      <td>0.000000</td>\n",
              "    </tr>\n",
              "    <tr>\n",
              "      <th>25%</th>\n",
              "      <td>0.050194</td>\n",
              "      <td>0.136498</td>\n",
              "      <td>0.505245</td>\n",
              "    </tr>\n",
              "    <tr>\n",
              "      <th>50%</th>\n",
              "      <td>0.089251</td>\n",
              "      <td>0.175708</td>\n",
              "      <td>0.991242</td>\n",
              "    </tr>\n",
              "    <tr>\n",
              "      <th>75%</th>\n",
              "      <td>0.132021</td>\n",
              "      <td>0.228774</td>\n",
              "      <td>1.603311</td>\n",
              "    </tr>\n",
              "    <tr>\n",
              "      <th>max</th>\n",
              "      <td>0.931730</td>\n",
              "      <td>0.944281</td>\n",
              "      <td>9.431239</td>\n",
              "    </tr>\n",
              "  </tbody>\n",
              "</table>\n",
              "</div>\n",
              "      <button class=\"colab-df-convert\" onclick=\"convertToInteractive('df-2ddc039b-86a0-41d8-8cb4-336327c5f9c0')\"\n",
              "              title=\"Convert this dataframe to an interactive table.\"\n",
              "              style=\"display:none;\">\n",
              "        \n",
              "  <svg xmlns=\"http://www.w3.org/2000/svg\" height=\"24px\"viewBox=\"0 0 24 24\"\n",
              "       width=\"24px\">\n",
              "    <path d=\"M0 0h24v24H0V0z\" fill=\"none\"/>\n",
              "    <path d=\"M18.56 5.44l.94 2.06.94-2.06 2.06-.94-2.06-.94-.94-2.06-.94 2.06-2.06.94zm-11 1L8.5 8.5l.94-2.06 2.06-.94-2.06-.94L8.5 2.5l-.94 2.06-2.06.94zm10 10l.94 2.06.94-2.06 2.06-.94-2.06-.94-.94-2.06-.94 2.06-2.06.94z\"/><path d=\"M17.41 7.96l-1.37-1.37c-.4-.4-.92-.59-1.43-.59-.52 0-1.04.2-1.43.59L10.3 9.45l-7.72 7.72c-.78.78-.78 2.05 0 2.83L4 21.41c.39.39.9.59 1.41.59.51 0 1.02-.2 1.41-.59l7.78-7.78 2.81-2.81c.8-.78.8-2.07 0-2.86zM5.41 20L4 18.59l7.72-7.72 1.47 1.35L5.41 20z\"/>\n",
              "  </svg>\n",
              "      </button>\n",
              "      \n",
              "  <style>\n",
              "    .colab-df-container {\n",
              "      display:flex;\n",
              "      flex-wrap:wrap;\n",
              "      gap: 12px;\n",
              "    }\n",
              "\n",
              "    .colab-df-convert {\n",
              "      background-color: #E8F0FE;\n",
              "      border: none;\n",
              "      border-radius: 50%;\n",
              "      cursor: pointer;\n",
              "      display: none;\n",
              "      fill: #1967D2;\n",
              "      height: 32px;\n",
              "      padding: 0 0 0 0;\n",
              "      width: 32px;\n",
              "    }\n",
              "\n",
              "    .colab-df-convert:hover {\n",
              "      background-color: #E2EBFA;\n",
              "      box-shadow: 0px 1px 2px rgba(60, 64, 67, 0.3), 0px 1px 3px 1px rgba(60, 64, 67, 0.15);\n",
              "      fill: #174EA6;\n",
              "    }\n",
              "\n",
              "    [theme=dark] .colab-df-convert {\n",
              "      background-color: #3B4455;\n",
              "      fill: #D2E3FC;\n",
              "    }\n",
              "\n",
              "    [theme=dark] .colab-df-convert:hover {\n",
              "      background-color: #434B5C;\n",
              "      box-shadow: 0px 1px 3px 1px rgba(0, 0, 0, 0.15);\n",
              "      filter: drop-shadow(0px 1px 2px rgba(0, 0, 0, 0.3));\n",
              "      fill: #FFFFFF;\n",
              "    }\n",
              "  </style>\n",
              "\n",
              "      <script>\n",
              "        const buttonEl =\n",
              "          document.querySelector('#df-2ddc039b-86a0-41d8-8cb4-336327c5f9c0 button.colab-df-convert');\n",
              "        buttonEl.style.display =\n",
              "          google.colab.kernel.accessAllowed ? 'block' : 'none';\n",
              "\n",
              "        async function convertToInteractive(key) {\n",
              "          const element = document.querySelector('#df-2ddc039b-86a0-41d8-8cb4-336327c5f9c0');\n",
              "          const dataTable =\n",
              "            await google.colab.kernel.invokeFunction('convertToInteractive',\n",
              "                                                     [key], {});\n",
              "          if (!dataTable) return;\n",
              "\n",
              "          const docLinkHtml = 'Like what you see? Visit the ' +\n",
              "            '<a target=\"_blank\" href=https://colab.research.google.com/notebooks/data_table.ipynb>data table notebook</a>'\n",
              "            + ' to learn more about interactive tables.';\n",
              "          element.innerHTML = '';\n",
              "          dataTable['output_type'] = 'display_data';\n",
              "          await google.colab.output.renderOutput(dataTable, element);\n",
              "          const docLink = document.createElement('div');\n",
              "          docLink.innerHTML = docLinkHtml;\n",
              "          element.appendChild(docLink);\n",
              "        }\n",
              "      </script>\n",
              "    </div>\n",
              "  </div>\n",
              "  "
            ],
            "text/plain": [
              "       cap-diameter   stem-height    stem-width\n",
              "count  18321.000000  18321.000000  18321.000000\n",
              "mean       0.103370      0.194106      1.172693\n",
              "std        0.087225      0.099467      0.960670\n",
              "min        0.000968      0.000000      0.000000\n",
              "25%        0.050194      0.136498      0.505245\n",
              "50%        0.089251      0.175708      0.991242\n",
              "75%        0.132021      0.228774      1.603311\n",
              "max        0.931730      0.944281      9.431239"
            ]
          },
          "metadata": {},
          "execution_count": 152
        }
      ],
      "source": [
        "test_org_df[numeric_cols].describe()"
      ]
    },
    {
      "cell_type": "markdown",
      "metadata": {
        "id": "TRpiRMh3pSkY"
      },
      "source": [
        "## Encoding Categorical Data"
      ]
    },
    {
      "cell_type": "code",
      "execution_count": 153,
      "metadata": {
        "colab": {
          "base_uri": "https://localhost:8080/"
        },
        "id": "oF-0QAYIpMD0",
        "outputId": "582b0c63-ac9f-4e47-9c47-e34d0a9c3804"
      },
      "outputs": [
        {
          "output_type": "execute_result",
          "data": {
            "text/plain": [
              "edible-poisonous            0\n",
              "cap-diameter                0\n",
              "cap-shape                   0\n",
              "cap-color                   0\n",
              "does-bruise-or-bleed        0\n",
              "gill-attachment          2944\n",
              "gill-color                  0\n",
              "stem-height                 0\n",
              "stem-width                  0\n",
              "stem-color                  0\n",
              "has-ring                    0\n",
              "ring-type                 752\n",
              "habitat                     0\n",
              "season                  18321\n",
              "dtype: int64"
            ]
          },
          "metadata": {},
          "execution_count": 153
        }
      ],
      "source": [
        "test_org_df.isna().sum()"
      ]
    },
    {
      "cell_type": "code",
      "execution_count": 154,
      "metadata": {
        "colab": {
          "base_uri": "https://localhost:8080/"
        },
        "id": "AVlgeYEypXgU",
        "outputId": "8ca1d223-00b8-4237-93cb-764e3cc89c9b"
      },
      "outputs": [
        {
          "output_type": "execute_result",
          "data": {
            "text/plain": [
              "['gill-attachment', 'ring-type', 'season']"
            ]
          },
          "metadata": {},
          "execution_count": 154
        }
      ],
      "source": [
        "test_null_value_cols = [ col for col in test_org_df.isna().sum().index if test_org_df.isna().sum()[col] > 0]\n",
        "test_null_value_cols"
      ]
    },
    {
      "cell_type": "code",
      "execution_count": 155,
      "metadata": {
        "colab": {
          "base_uri": "https://localhost:8080/"
        },
        "id": "Ns0ofs0Ipcjq",
        "outputId": "a06922ca-964a-4374-f050-7f5bbda93ba7"
      },
      "outputs": [
        {
          "output_type": "stream",
          "name": "stdout",
          "text": [
            "----------Unique values in \"edible-poisonous\" column-------------------\n",
            "['e' 'p']\n",
            "-----------End of unique values for \"edible-poisonous\" columns ---------------\n",
            "\n",
            "----------Unique values in \"cap-diameter\" column-------------------\n",
            "[0.06939961 0.16058748 0.14331827 ... 0.90929632 0.35393802 0.31891543]\n",
            "-----------End of unique values for \"cap-diameter\" columns ---------------\n",
            "\n",
            "----------Unique values in \"cap-shape\" column-------------------\n",
            "['x' 's' 'p' 'f' 'o' 'b' 'c']\n",
            "-----------End of unique values for \"cap-shape\" columns ---------------\n",
            "\n",
            "----------Unique values in \"cap-color\" column-------------------\n",
            "['w' 'y' 'n' 'g' 'b' 'r' 'e' 'p' 'o' 'u' 'k' 'l']\n",
            "-----------End of unique values for \"cap-color\" columns ---------------\n",
            "\n",
            "----------Unique values in \"does-bruise-or-bleed\" column-------------------\n",
            "['f' 't']\n",
            "-----------End of unique values for \"does-bruise-or-bleed\" columns ---------------\n",
            "\n",
            "----------Unique values in \"gill-attachment\" column-------------------\n",
            "['x' 'a' nan 'd' 'e' 'p' 's' 'f']\n",
            "-----------End of unique values for \"gill-attachment\" columns ---------------\n",
            "\n",
            "----------Unique values in \"gill-color\" column-------------------\n",
            "['w' 'y' 'p' 'n' 'b' 'o' 'u' 'f' 'e' 'g' 'r' 'k']\n",
            "-----------End of unique values for \"gill-color\" columns ---------------\n",
            "\n",
            "----------Unique values in \"stem-height\" column-------------------\n",
            "[0.24233491 0.35318396 0.21845519 ... 0.56810142 0.88649764 0.65271226]\n",
            "-----------End of unique values for \"stem-height\" columns ---------------\n",
            "\n",
            "----------Unique values in \"stem-width\" column-------------------\n",
            "[0.92195169 1.27899143 1.22028679 ... 3.48378404 4.88788375 3.80425368]\n",
            "-----------End of unique values for \"stem-width\" columns ---------------\n",
            "\n",
            "----------Unique values in \"stem-color\" column-------------------\n",
            "['n' 'y' 'w' 'e' 'f' 'g' 'u' 'o' 'p' 'r' 'k' 'b' 'l']\n",
            "-----------End of unique values for \"stem-color\" columns ---------------\n",
            "\n",
            "----------Unique values in \"has-ring\" column-------------------\n",
            "['t' 'f']\n",
            "-----------End of unique values for \"has-ring\" columns ---------------\n",
            "\n",
            "----------Unique values in \"ring-type\" column-------------------\n",
            "[nan 'l' 'f' 'm' 'e' 'z' 'r' 'p' 'g']\n",
            "-----------End of unique values for \"ring-type\" columns ---------------\n",
            "\n",
            "----------Unique values in \"habitat\" column-------------------\n",
            "['g' 'd' 'l' 'm' 'h' 'w' 'u' 'p']\n",
            "-----------End of unique values for \"habitat\" columns ---------------\n",
            "\n",
            "----------Unique values in \"season\" column-------------------\n",
            "[nan]\n",
            "-----------End of unique values for \"season\" columns ---------------\n",
            "\n"
          ]
        }
      ],
      "source": [
        "unique_value_for_dataframe(test_org_df)"
      ]
    },
    {
      "cell_type": "code",
      "execution_count": 156,
      "metadata": {
        "id": "1RX3X2sbpe0z"
      },
      "outputs": [],
      "source": [
        "test_org_df['gill-attachment'] = test_org_df['gill-attachment'].replace(np.nan, 'a' )\n",
        "test_org_df['ring-type'] = test_org_df['ring-type'].replace(np.nan, 'f' )"
      ]
    },
    {
      "cell_type": "code",
      "execution_count": 157,
      "metadata": {
        "colab": {
          "base_uri": "https://localhost:8080/"
        },
        "id": "RohcHbUsp-ro",
        "outputId": "8e5b0dae-4cab-4cf7-a5f0-f8c3693153e0"
      },
      "outputs": [
        {
          "output_type": "execute_result",
          "data": {
            "text/plain": [
              "edible-poisonous            0\n",
              "cap-diameter                0\n",
              "cap-shape                   0\n",
              "cap-color                   0\n",
              "does-bruise-or-bleed        0\n",
              "gill-attachment             0\n",
              "gill-color                  0\n",
              "stem-height                 0\n",
              "stem-width                  0\n",
              "stem-color                  0\n",
              "has-ring                    0\n",
              "ring-type                   0\n",
              "habitat                     0\n",
              "season                  18321\n",
              "dtype: int64"
            ]
          },
          "metadata": {},
          "execution_count": 157
        }
      ],
      "source": [
        "test_org_df.isna().sum()"
      ]
    },
    {
      "cell_type": "code",
      "execution_count": 158,
      "metadata": {
        "id": "sMpogXayqAqM"
      },
      "outputs": [],
      "source": [
        "test_org_df[encoded_cols] = encoder.transform(test_org_df[categorical_cols])"
      ]
    },
    {
      "cell_type": "code",
      "execution_count": 159,
      "metadata": {
        "colab": {
          "base_uri": "https://localhost:8080/"
        },
        "id": "dZqIhE35qNRk",
        "outputId": "074405dd-b01c-44d2-a39b-8e4f7fc34c4a"
      },
      "outputs": [
        {
          "output_type": "execute_result",
          "data": {
            "text/plain": [
              "(18321, 87)"
            ]
          },
          "metadata": {},
          "execution_count": 159
        }
      ],
      "source": [
        "test_org_df.shape"
      ]
    },
    {
      "cell_type": "code",
      "execution_count": 160,
      "metadata": {
        "colab": {
          "base_uri": "https://localhost:8080/"
        },
        "id": "RQOh3kolqQPE",
        "outputId": "59ffcf90-5a1e-4e84-d05f-444d95c3f65b"
      },
      "outputs": [
        {
          "output_type": "execute_result",
          "data": {
            "text/plain": [
              "[]"
            ]
          },
          "metadata": {},
          "execution_count": 160
        }
      ],
      "source": [
        "cols_list = [ col for col in train_org_df.columns if col not in test_org_df.columns ]\n",
        "cols_list"
      ]
    },
    {
      "cell_type": "code",
      "execution_count": 161,
      "metadata": {
        "id": "oxxXSxhgqSin"
      },
      "outputs": [],
      "source": [
        "X_test = test_org_df[numeric_cols + encoded_cols].copy()"
      ]
    },
    {
      "cell_type": "code",
      "execution_count": 162,
      "metadata": {
        "id": "_axV31y9qWMU"
      },
      "outputs": [],
      "source": [
        "test_preds = model.predict(X_test)"
      ]
    },
    {
      "cell_type": "code",
      "execution_count": 163,
      "metadata": {
        "colab": {
          "base_uri": "https://localhost:8080/"
        },
        "id": "arLnq1MPqXvw",
        "outputId": "a8a1a2a8-ce70-49b4-edce-d975b8d6b178"
      },
      "outputs": [
        {
          "output_type": "execute_result",
          "data": {
            "text/plain": [
              "((18321, 76), (18321,))"
            ]
          },
          "metadata": {},
          "execution_count": 163
        }
      ],
      "source": [
        "X_test.shape,  test_preds.shape"
      ]
    },
    {
      "cell_type": "markdown",
      "metadata": {
        "id": "n524YMXkqc5v"
      },
      "source": [
        "# Creating the Submission files\n"
      ]
    },
    {
      "cell_type": "code",
      "execution_count": 164,
      "metadata": {
        "id": "eU2RPf-VqZWY"
      },
      "outputs": [],
      "source": [
        "sub_df = pd.DataFrame()"
      ]
    },
    {
      "cell_type": "code",
      "execution_count": 165,
      "metadata": {
        "colab": {
          "base_uri": "https://localhost:8080/",
          "height": 206
        },
        "id": "CMdJC-NUqfz7",
        "outputId": "d79f22ce-2e78-4f90-e2ab-070d8b7a86b7"
      },
      "outputs": [
        {
          "output_type": "execute_result",
          "data": {
            "text/html": [
              "\n",
              "  <div id=\"df-7072115d-cae1-429b-a40d-207870d2363a\">\n",
              "    <div class=\"colab-df-container\">\n",
              "      <div>\n",
              "<style scoped>\n",
              "    .dataframe tbody tr th:only-of-type {\n",
              "        vertical-align: middle;\n",
              "    }\n",
              "\n",
              "    .dataframe tbody tr th {\n",
              "        vertical-align: top;\n",
              "    }\n",
              "\n",
              "    .dataframe thead th {\n",
              "        text-align: right;\n",
              "    }\n",
              "</style>\n",
              "<table border=\"1\" class=\"dataframe\">\n",
              "  <thead>\n",
              "    <tr style=\"text-align: right;\">\n",
              "      <th></th>\n",
              "      <th>season</th>\n",
              "    </tr>\n",
              "  </thead>\n",
              "  <tbody>\n",
              "    <tr>\n",
              "      <th>0</th>\n",
              "      <td>a</td>\n",
              "    </tr>\n",
              "    <tr>\n",
              "      <th>1</th>\n",
              "      <td>a</td>\n",
              "    </tr>\n",
              "    <tr>\n",
              "      <th>2</th>\n",
              "      <td>a</td>\n",
              "    </tr>\n",
              "    <tr>\n",
              "      <th>3</th>\n",
              "      <td>a</td>\n",
              "    </tr>\n",
              "    <tr>\n",
              "      <th>4</th>\n",
              "      <td>a</td>\n",
              "    </tr>\n",
              "  </tbody>\n",
              "</table>\n",
              "</div>\n",
              "      <button class=\"colab-df-convert\" onclick=\"convertToInteractive('df-7072115d-cae1-429b-a40d-207870d2363a')\"\n",
              "              title=\"Convert this dataframe to an interactive table.\"\n",
              "              style=\"display:none;\">\n",
              "        \n",
              "  <svg xmlns=\"http://www.w3.org/2000/svg\" height=\"24px\"viewBox=\"0 0 24 24\"\n",
              "       width=\"24px\">\n",
              "    <path d=\"M0 0h24v24H0V0z\" fill=\"none\"/>\n",
              "    <path d=\"M18.56 5.44l.94 2.06.94-2.06 2.06-.94-2.06-.94-.94-2.06-.94 2.06-2.06.94zm-11 1L8.5 8.5l.94-2.06 2.06-.94-2.06-.94L8.5 2.5l-.94 2.06-2.06.94zm10 10l.94 2.06.94-2.06 2.06-.94-2.06-.94-.94-2.06-.94 2.06-2.06.94z\"/><path d=\"M17.41 7.96l-1.37-1.37c-.4-.4-.92-.59-1.43-.59-.52 0-1.04.2-1.43.59L10.3 9.45l-7.72 7.72c-.78.78-.78 2.05 0 2.83L4 21.41c.39.39.9.59 1.41.59.51 0 1.02-.2 1.41-.59l7.78-7.78 2.81-2.81c.8-.78.8-2.07 0-2.86zM5.41 20L4 18.59l7.72-7.72 1.47 1.35L5.41 20z\"/>\n",
              "  </svg>\n",
              "      </button>\n",
              "      \n",
              "  <style>\n",
              "    .colab-df-container {\n",
              "      display:flex;\n",
              "      flex-wrap:wrap;\n",
              "      gap: 12px;\n",
              "    }\n",
              "\n",
              "    .colab-df-convert {\n",
              "      background-color: #E8F0FE;\n",
              "      border: none;\n",
              "      border-radius: 50%;\n",
              "      cursor: pointer;\n",
              "      display: none;\n",
              "      fill: #1967D2;\n",
              "      height: 32px;\n",
              "      padding: 0 0 0 0;\n",
              "      width: 32px;\n",
              "    }\n",
              "\n",
              "    .colab-df-convert:hover {\n",
              "      background-color: #E2EBFA;\n",
              "      box-shadow: 0px 1px 2px rgba(60, 64, 67, 0.3), 0px 1px 3px 1px rgba(60, 64, 67, 0.15);\n",
              "      fill: #174EA6;\n",
              "    }\n",
              "\n",
              "    [theme=dark] .colab-df-convert {\n",
              "      background-color: #3B4455;\n",
              "      fill: #D2E3FC;\n",
              "    }\n",
              "\n",
              "    [theme=dark] .colab-df-convert:hover {\n",
              "      background-color: #434B5C;\n",
              "      box-shadow: 0px 1px 3px 1px rgba(0, 0, 0, 0.15);\n",
              "      filter: drop-shadow(0px 1px 2px rgba(0, 0, 0, 0.3));\n",
              "      fill: #FFFFFF;\n",
              "    }\n",
              "  </style>\n",
              "\n",
              "      <script>\n",
              "        const buttonEl =\n",
              "          document.querySelector('#df-7072115d-cae1-429b-a40d-207870d2363a button.colab-df-convert');\n",
              "        buttonEl.style.display =\n",
              "          google.colab.kernel.accessAllowed ? 'block' : 'none';\n",
              "\n",
              "        async function convertToInteractive(key) {\n",
              "          const element = document.querySelector('#df-7072115d-cae1-429b-a40d-207870d2363a');\n",
              "          const dataTable =\n",
              "            await google.colab.kernel.invokeFunction('convertToInteractive',\n",
              "                                                     [key], {});\n",
              "          if (!dataTable) return;\n",
              "\n",
              "          const docLinkHtml = 'Like what you see? Visit the ' +\n",
              "            '<a target=\"_blank\" href=https://colab.research.google.com/notebooks/data_table.ipynb>data table notebook</a>'\n",
              "            + ' to learn more about interactive tables.';\n",
              "          element.innerHTML = '';\n",
              "          dataTable['output_type'] = 'display_data';\n",
              "          await google.colab.output.renderOutput(dataTable, element);\n",
              "          const docLink = document.createElement('div');\n",
              "          docLink.innerHTML = docLinkHtml;\n",
              "          element.appendChild(docLink);\n",
              "        }\n",
              "      </script>\n",
              "    </div>\n",
              "  </div>\n",
              "  "
            ],
            "text/plain": [
              "  season\n",
              "0      a\n",
              "1      a\n",
              "2      a\n",
              "3      a\n",
              "4      a"
            ]
          },
          "metadata": {},
          "execution_count": 165
        }
      ],
      "source": [
        "sample_df.head()"
      ]
    },
    {
      "cell_type": "code",
      "execution_count": 166,
      "metadata": {
        "id": "52UmOZQkqjZo"
      },
      "outputs": [],
      "source": [
        "#sub_df['instance_id'] = test_org_df['instance_id']"
      ]
    },
    {
      "cell_type": "code",
      "execution_count": 167,
      "metadata": {
        "id": "ir7k2o13qldH"
      },
      "outputs": [],
      "source": [
        "sub_df['season'] = test_preds"
      ]
    },
    {
      "cell_type": "code",
      "execution_count": 168,
      "metadata": {
        "colab": {
          "base_uri": "https://localhost:8080/"
        },
        "id": "juR2d3hZqnXi",
        "outputId": "f2f9feab-2eed-4f5c-f8ea-cfc2f2b2f91d"
      },
      "outputs": [
        {
          "output_type": "execute_result",
          "data": {
            "text/plain": [
              "array(['u', 'w', 'a', 's'], dtype=object)"
            ]
          },
          "metadata": {},
          "execution_count": 168
        }
      ],
      "source": [
        "sub_df['season'].unique()"
      ]
    },
    {
      "cell_type": "code",
      "execution_count": 169,
      "metadata": {
        "id": "DUxzuLWPq0YG"
      },
      "outputs": [],
      "source": [
        "sub_df.to_csv('rd_model_colsbyten.csv', index= False)"
      ]
    },
    {
      "cell_type": "code",
      "execution_count": 172,
      "metadata": {
        "colab": {
          "base_uri": "https://localhost:8080/",
          "height": 130
        },
        "id": "gnypwv-iq40w",
        "outputId": "c953eafe-c7db-49c1-ad8a-8c594beef930"
      },
      "outputs": [
        {
          "output_type": "stream",
          "name": "stdout",
          "text": [
            "[jovian] Detected Colab notebook...\u001b[0m\n",
            "[jovian] Please enter your API key ( from https://jovian.ai/ ):\u001b[0m\n",
            "API KEY: ··········\n",
            "[jovian] Uploading colab notebook to Jovian...\u001b[0m\n",
            "Committed successfully! https://jovian.ai/pknayak0707-job/machinehack-ode-to-code-tredence\n"
          ]
        },
        {
          "output_type": "execute_result",
          "data": {
            "application/vnd.google.colaboratory.intrinsic+json": {
              "type": "string"
            },
            "text/plain": [
              "'https://jovian.ai/pknayak0707-job/machinehack-ode-to-code-tredence'"
            ]
          },
          "metadata": {},
          "execution_count": 172
        }
      ],
      "source": [
        "jovian.commit()"
      ]
    },
    {
      "cell_type": "code",
      "execution_count": null,
      "metadata": {
        "id": "optuAGdgxtGY"
      },
      "outputs": [],
      "source": [
        ""
      ]
    }
  ],
  "metadata": {
    "colab": {
      "collapsed_sections": [
        "Y0bLbRa6hNje"
      ],
      "name": "machinehack-ode-to-code-tredence.ipynb",
      "provenance": []
    },
    "kernelspec": {
      "display_name": "Python 3",
      "language": "python",
      "name": "python3"
    },
    "language_info": {
      "codemirror_mode": {
        "name": "ipython",
        "version": 3
      },
      "file_extension": ".py",
      "mimetype": "text/x-python",
      "name": "python",
      "nbconvert_exporter": "python",
      "pygments_lexer": "ipython3",
      "version": "3.7.6"
    }
  },
  "nbformat": 4,
  "nbformat_minor": 0
}